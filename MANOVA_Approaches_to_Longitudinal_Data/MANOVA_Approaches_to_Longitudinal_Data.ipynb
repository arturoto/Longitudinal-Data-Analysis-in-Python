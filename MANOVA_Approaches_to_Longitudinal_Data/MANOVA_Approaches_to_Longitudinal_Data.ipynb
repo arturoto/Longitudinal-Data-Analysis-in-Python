{
 "cells": [
  {
   "cell_type": "code",
   "execution_count": null,
   "metadata": {
    "collapsed": true
   },
   "outputs": [],
   "source": []
  },
  {
   "cell_type": "code",
   "execution_count": null,
   "metadata": {
    "collapsed": true
   },
   "outputs": [],
   "source": []
  },
  {
   "cell_type": "code",
   "execution_count": null,
   "metadata": {
    "collapsed": true
   },
   "outputs": [],
   "source": []
  },
  {
   "cell_type": "code",
   "execution_count": null,
   "metadata": {
    "collapsed": true
   },
   "outputs": [],
   "source": []
  },
  {
   "cell_type": "code",
   "execution_count": 1,
   "metadata": {},
   "outputs": [
    {
     "data": {
      "text/html": [
       "<div>\n",
       "<style scoped>\n",
       "    .dataframe tbody tr th:only-of-type {\n",
       "        vertical-align: middle;\n",
       "    }\n",
       "\n",
       "    .dataframe tbody tr th {\n",
       "        vertical-align: top;\n",
       "    }\n",
       "\n",
       "    .dataframe thead th {\n",
       "        text-align: right;\n",
       "    }\n",
       "</style>\n",
       "<table border=\"1\" class=\"dataframe\">\n",
       "  <thead>\n",
       "    <tr style=\"text-align: right;\">\n",
       "      <th></th>\n",
       "      <th>0</th>\n",
       "      <th>1</th>\n",
       "      <th>2</th>\n",
       "      <th>3</th>\n",
       "    </tr>\n",
       "  </thead>\n",
       "  <tbody>\n",
       "    <tr>\n",
       "      <th>0</th>\n",
       "      <td>0.500000</td>\n",
       "      <td>0.500000</td>\n",
       "      <td>0.500000</td>\n",
       "      <td>0.500000</td>\n",
       "    </tr>\n",
       "    <tr>\n",
       "      <th>1</th>\n",
       "      <td>-0.670820</td>\n",
       "      <td>-0.223607</td>\n",
       "      <td>0.223607</td>\n",
       "      <td>0.670820</td>\n",
       "    </tr>\n",
       "    <tr>\n",
       "      <th>2</th>\n",
       "      <td>0.500000</td>\n",
       "      <td>-0.500000</td>\n",
       "      <td>-0.500000</td>\n",
       "      <td>0.500000</td>\n",
       "    </tr>\n",
       "    <tr>\n",
       "      <th>3</th>\n",
       "      <td>-0.223607</td>\n",
       "      <td>0.670820</td>\n",
       "      <td>-0.670820</td>\n",
       "      <td>0.223607</td>\n",
       "    </tr>\n",
       "  </tbody>\n",
       "</table>\n",
       "</div>"
      ],
      "text/plain": [
       "          0         1         2         3\n",
       "0  0.500000  0.500000  0.500000  0.500000\n",
       "1 -0.670820 -0.223607  0.223607  0.670820\n",
       "2  0.500000 -0.500000 -0.500000  0.500000\n",
       "3 -0.223607  0.670820 -0.670820  0.223607"
      ]
     },
     "execution_count": 1,
     "metadata": {},
     "output_type": "execute_result"
    }
   ],
   "source": [
    "import pandas as pd\n",
    "import numpy as np\n",
    "\n",
    "\n",
    "testing_DF = pd.DataFrame({'t1':[1, 0, 0, 0], \\\n",
    "                          't2':[1, 1, 1, 1], \\\n",
    "                          't3':[1, 2, 4, 8], \\\n",
    "                          't4':[1, 3, 9, 27]})\n",
    "\n",
    "\n",
    "\n",
    "np_arr = testing_DF.values\n",
    "time = np_arr\n",
    "# P already Normalized\n",
    "pd.DataFrame(np.dot(np.linalg.inv(np.linalg.cholesky(np.dot(time, time.T)).T).T, time))"
   ]
  },
  {
   "cell_type": "markdown",
   "metadata": {},
   "source": [
    "## Example"
   ]
  },
  {
   "cell_type": "code",
   "execution_count": 2,
   "metadata": {},
   "outputs": [],
   "source": [
    "import pandas as pd\n",
    "import numpy as np\n",
    "\n",
    "# data = pd.read_csv('../ANOVA_Approaches_to_Longitudinal_Data/VocabGrowth.csv', header=None)\n",
    "# data.head()\n",
    "\n",
    "data = pd.read_csv('../ANOVA_Approaches_to_Longitudinal_Data/VocabGrowth.csv', \\\n",
    "                   names = ['8_Grade', '9_Grade', '10_Grade', '11_Grade'])\n",
    "VocabGrowth = data"
   ]
  },
  {
   "cell_type": "code",
   "execution_count": 3,
   "metadata": {},
   "outputs": [
    {
     "data": {
      "text/plain": [
       "8_Grade     1.137500\n",
       "9_Grade     2.541719\n",
       "10_Grade    2.988281\n",
       "11_Grade    3.468750\n",
       "dtype: float64"
      ]
     },
     "execution_count": 3,
     "metadata": {},
     "output_type": "execute_result"
    }
   ],
   "source": [
    "y_bar_dot = VocabGrowth.mean()\n",
    "y_bar_dot"
   ]
  },
  {
   "cell_type": "code",
   "execution_count": 4,
   "metadata": {},
   "outputs": [
    {
     "data": {
      "text/html": [
       "<div>\n",
       "<style scoped>\n",
       "    .dataframe tbody tr th:only-of-type {\n",
       "        vertical-align: middle;\n",
       "    }\n",
       "\n",
       "    .dataframe tbody tr th {\n",
       "        vertical-align: top;\n",
       "    }\n",
       "\n",
       "    .dataframe thead th {\n",
       "        text-align: right;\n",
       "    }\n",
       "</style>\n",
       "<table border=\"1\" class=\"dataframe\">\n",
       "  <thead>\n",
       "    <tr style=\"text-align: right;\">\n",
       "      <th></th>\n",
       "      <th>0</th>\n",
       "      <th>1</th>\n",
       "      <th>2</th>\n",
       "      <th>3</th>\n",
       "    </tr>\n",
       "  </thead>\n",
       "  <tbody>\n",
       "    <tr>\n",
       "      <th>0</th>\n",
       "      <td>0.500000</td>\n",
       "      <td>0.500000</td>\n",
       "      <td>0.500000</td>\n",
       "      <td>0.500000</td>\n",
       "    </tr>\n",
       "    <tr>\n",
       "      <th>1</th>\n",
       "      <td>-0.670820</td>\n",
       "      <td>-0.223607</td>\n",
       "      <td>0.223607</td>\n",
       "      <td>0.670820</td>\n",
       "    </tr>\n",
       "    <tr>\n",
       "      <th>2</th>\n",
       "      <td>0.500000</td>\n",
       "      <td>-0.500000</td>\n",
       "      <td>-0.500000</td>\n",
       "      <td>0.500000</td>\n",
       "    </tr>\n",
       "    <tr>\n",
       "      <th>3</th>\n",
       "      <td>-0.223607</td>\n",
       "      <td>0.670820</td>\n",
       "      <td>-0.670820</td>\n",
       "      <td>0.223607</td>\n",
       "    </tr>\n",
       "  </tbody>\n",
       "</table>\n",
       "</div>"
      ],
      "text/plain": [
       "          0         1         2         3\n",
       "0  0.500000  0.500000  0.500000  0.500000\n",
       "1 -0.670820 -0.223607  0.223607  0.670820\n",
       "2  0.500000 -0.500000 -0.500000  0.500000\n",
       "3 -0.223607  0.670820 -0.670820  0.223607"
      ]
     },
     "execution_count": 4,
     "metadata": {},
     "output_type": "execute_result"
    }
   ],
   "source": [
    "# Orthoginal Matrix\n",
    "# P already Normalized\n",
    "P = pd.DataFrame(np.dot(np.linalg.inv(np.linalg.cholesky(np.dot(time, time.T)).T).T, time))\n",
    "P"
   ]
  },
  {
   "cell_type": "code",
   "execution_count": 5,
   "metadata": {},
   "outputs": [
    {
     "data": {
      "text/plain": [
       "array([ 5.068125  ,  1.66370445, -0.461875  ,  0.22172012])"
      ]
     },
     "execution_count": 5,
     "metadata": {},
     "output_type": "execute_result"
    }
   ],
   "source": [
    "# Orthogonal Polynomial Estimates\n",
    "np.dot(P, y_bar_dot)"
   ]
  },
  {
   "cell_type": "code",
   "execution_count": 6,
   "metadata": {},
   "outputs": [
    {
     "data": {
      "text/plain": [
       "array([[ 307.8958,  386.1704,  441.3901,  432.475 ],\n",
       "       [ 386.1704,  687.3115,  709.6184,  755.9904],\n",
       "       [ 441.3901,  709.6184,  867.8297,  876.6472],\n",
       "       [ 432.475 ,  755.9904,  876.6472, 1003.9108]])"
      ]
     },
     "execution_count": 6,
     "metadata": {},
     "output_type": "execute_result"
    }
   ],
   "source": [
    "# Y is the (N x n) matrix of all data\n",
    "Y = VocabGrowth\n",
    "Yt_Y = np.dot(Y.T, Y)\n",
    "Yt_Y"
   ]
  },
  {
   "cell_type": "code",
   "execution_count": 21,
   "metadata": {},
   "outputs": [
    {
     "data": {
      "text/plain": [
       "1837.842678125"
      ]
     },
     "execution_count": 21,
     "metadata": {},
     "output_type": "execute_result"
    }
   ],
   "source": [
    "len(Y)*np.dot(y_bar_dot, y_bar_dot.T)"
   ]
  },
  {
   "cell_type": "code",
   "execution_count": 20,
   "metadata": {},
   "outputs": [
    {
     "data": {
      "text/plain": [
       "array([[-4833.4880125 ,   543.32773521,  -199.40535   ,    48.2887824 ],\n",
       "       [  543.32773521,   227.51182   ,   -37.09949824,    20.46799   ],\n",
       "       [ -199.40535   ,   -37.09949824,    57.6846    ,   -10.63663996],\n",
       "       [   48.2887824 ,    20.46799   ,   -10.63663996,    63.86868   ]])"
      ]
     },
     "execution_count": 20,
     "metadata": {},
     "output_type": "execute_result"
    }
   ],
   "source": [
    "SSR_r = np.dot(np.dot(P, np.subtract(Yt_Y, len(Y)*np.dot(y_bar_dot, y_bar_dot.T))), P.T)\n",
    "SSR_r"
   ]
  },
  {
   "cell_type": "code",
   "execution_count": 24,
   "metadata": {},
   "outputs": [
    {
     "data": {
      "text/plain": [
       "array([[ 1.83784268e+03, -1.13686838e-13, -6.25277607e-13,\n",
       "         2.44426701e-12],\n",
       "       [-1.13686838e-13,  1.83784268e+03,  5.68434189e-13,\n",
       "        -2.04636308e-12],\n",
       "       [-6.25277607e-13,  5.68434189e-13,  1.83784268e+03,\n",
       "        -1.18234311e-11],\n",
       "       [ 2.44426701e-12, -2.04636308e-12, -1.17097443e-11,\n",
       "         1.83784268e+03]])"
      ]
     },
     "execution_count": 24,
     "metadata": {},
     "output_type": "execute_result"
    }
   ],
   "source": [
    "SST_t = len(Y) * np.dot(np.dot(P, np.dot(y_bar_dot, y_bar_dot.T)), P.T)\n",
    "SST_t"
   ]
  },
  {
   "cell_type": "code",
   "execution_count": 13,
   "metadata": {
    "collapsed": true
   },
   "outputs": [],
   "source": [
    "MANOVA_table_dict = {'Source':['Time', 'Residual', 'Total'], \\\n",
    "                     'df': [1, len(Y) - 1, len(Y)], \\\n",
    "                     'SSCP': []\n",
    "                     \n",
    "                    }"
   ]
  },
  {
   "cell_type": "code",
   "execution_count": null,
   "metadata": {
    "collapsed": true
   },
   "outputs": [],
   "source": []
  },
  {
   "cell_type": "code",
   "execution_count": null,
   "metadata": {
    "collapsed": true
   },
   "outputs": [],
   "source": []
  }
 ],
 "metadata": {
  "kernelspec": {
   "display_name": "Python 3",
   "language": "python",
   "name": "python3"
  },
  "language_info": {
   "codemirror_mode": {
    "name": "ipython",
    "version": 3
   },
   "file_extension": ".py",
   "mimetype": "text/x-python",
   "name": "python",
   "nbconvert_exporter": "python",
   "pygments_lexer": "ipython3",
   "version": "3.6.3"
  }
 },
 "nbformat": 4,
 "nbformat_minor": 2
}
