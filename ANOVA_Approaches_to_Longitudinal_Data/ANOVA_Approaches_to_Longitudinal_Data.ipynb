{
 "cells": [
  {
   "cell_type": "markdown",
   "metadata": {},
   "source": [
    "# ANOVA_Approaches_to_Longitudinal_Data\n",
    "\n",
    "Two classical ways to analys Longitudinal Data:\n",
    "\n",
    "    1) Reapeted Measures ANOVA\n",
    "    2) multivariate ANOVA\n",
    "    \n",
    "For both models - the primary focus is on comparison of group means, and neither model is informative about individual growth curves\n",
    "\n",
    "- timepoints are assumed to be fixed across subjects\n",
    "-  Both models are based on least-squares estimation and are therefore adversely affected by outliers and missing data.\n",
    "- ANOVA model assumes compound symmetry\n",
    "\n"
   ]
  },
  {
   "attachments": {},
   "cell_type": "markdown",
   "metadata": {},
   "source": [
    "## Univariate ANOVA model for within-subject designs\n",
    "### SINGLE-SAMPLE REPEATED MEASURES ANOVA\n",
    "\n",
    "In single-sample case the model is refered to as the randomized blocks ANOVA.\n",
    "    No intervention or group effects\n",
    "We are using it to charachterize rates of change over time. \n",
    "\n",
    "With:\n",
    "\n",
    "$i = 1, ..., N$ Subjects\n",
    "\n",
    "$j = 1, ..., n$ Measurement occasions\n",
    "\n",
    "the ANOVA model is given by:\n",
    "\n",
    "$$y_{ij} = \\mu + \\pi_i + \\tau_j + e_{ij}$$\n",
    "\n",
    "Where :\n",
    "\n",
    "$\\mu$ - grand mean\n",
    "\n",
    "$\\pi_i$ - individual difference component for subject $i$ (assumed to be constant over time)\n",
    "\n",
    "$\\tau_j$ - effect of time (assumed to be the same for all subject)\n",
    "\n",
    "$e_{ij}$ - error for subject $i$ on occasion $j$\n",
    "\n",
    "assuming that random components are distribueted by:\n",
    "\n",
    "$\\pi_i \\sim N(0, \\sigma_i^2)$\n",
    "\n",
    "where $\\sigma_i^2$ is the between-subject variance \n",
    "\n",
    "and \n",
    "\n",
    "$e_{ij} \\sim N(0, \\sigma_e^2)$\n",
    "\n",
    "where $\\sigma_e^2$ is the within-subjects variance.\n",
    "\n",
    "\n",
    "Note: this is a mixed model including random $(\\pi_{ij})$ and fixed $(\\tau_j)$ effects\n",
    "\n",
    "![](Screen%20Shot%202018-07-01%20at%204.33.23%20PM.png)\n",
    "\n",
    "\n",
    "Note that the first covariance statement indicates that subjects are independent of each other, whereas the second covariance statement indicates that the covariance is a: for any two repeated measures within the same subject.\n",
    "\n",
    "\n",
    "This covariance can be expressed as a correlation, which reflects the magnitude of the within-subject association in a more interpretable metric:\n",
    "\n",
    "![](Screen%20Shot%202018-07-01%20at%204.35.50%20PM.png)\n",
    "\n",
    "\n",
    "Given the above assumptions, the variance covariance matrix of the repeated measures has the \"compound symmetry\" structure:\n",
    "\n",
    "![](Screen%20Shot%202018-07-01%20at%204.37.23%20PM.png)\n",
    "\n",
    "Unfortunately,compound symmetry is not very realistic for longitudinal data. First,variancesoftenchangeovertime, where subjects are generally more similar at the start of the trial than at the end of the trial where some have responded to treatment and others have not. Second, covariances close in time are usually greater than covariances that are further separated in time.\n",
    "\n",
    "![](Screen%20Shot%202018-07-01%20at%204.39.03%20PM.png)\n",
    "\n",
    "To quantify the degree of the subject effect, the intraclass correlation (ICC) for this design describes the relative magnitude of a:, namely\n",
    "\n",
    "\n",
    "![](Screen%20Shot%202018-07-01%20at%204.41.43%20PM.png)\n",
    "\n",
    "\n",
    "As subjects’ data are highly correlated, the ICC becomes large. Here, the variance param- eters are estimated as:\n",
    "\n",
    "\n",
    "\n",
    "![](Screen%20Shot%202018-07-01%20at%204.42.44%20PM.png)\n",
    "\n",
    "\n",
    "\n",
    "Note: if $\\hat{\\sigma_\\pi^2} < 0$, by defualt  $\\hat{\\sigma_\\pi^2} = 0$\n",
    "\n",
    "\n",
    "\n",
    "\n",
    "### Decomposing the Time Effect\n",
    "\n",
    "For time-related comparisons, it is useful to construct a set of n - 1 contrasts Ljl of the timepoint means as follows:\n",
    "\n",
    "\n",
    "![](Screen%20Shot%202018-07-01%20at%204.45.25%20PM.png)\n",
    "\n",
    "\n",
    "where c j f j represent contrast coefficients\n",
    "\n",
    "\n",
    "Tests of these contrasts ( H j , : L j , = 0) can be obtained using:\n",
    "\n",
    "![](Screen%20Shot%202018-07-01%20at%204.46.36%20PM.png)\n",
    "\n",
    "\n",
    "Note: these two tess are the same becuase the F stat is simpt the t-test squared.\n",
    "\n",
    "\n",
    "Selecting a set of n - 1 contrasts clearly depends on the set of scientific questions that\n",
    "are of interest in a particular study. Below, we present several sets that are commonly (and perhaps not so commonly) applied in longitudinal models\n",
    "\n",
    "\n"
   ]
  },
  {
   "attachments": {},
   "cell_type": "markdown",
   "metadata": {},
   "source": [
    "### Trend Analysis-Orthogonal Polynomial Contrasts\n",
    "\n",
    "Useful for:\n",
    "\n",
    "    1) the “degree” of change across time and \n",
    "    2) the relative contribution of each polynomial component of the trend.\n",
    "\n",
    "\n",
    "first characterize the n - 1 time effects as an n - 1 orthoginal polynomials. \n",
    "\n",
    "ex:\n",
    "    (n-1) x n contrast matrix for n = 4\n",
    "    \n",
    "    \n",
    "![](Screen%20Shot%202018-07-01%20at%205.22.25%20PM.png)\n",
    "\n",
    "each row indicates the n - 1 polynomial contrast, the columns are the related time oints n. By normalizing each elemiment based on row, or polynomialm it can be better interpreted and compared. \n",
    "\n",
    "### Change Relative to Baseline-Reference Cell Contrasts\n",
    "\n",
    "\n",
    "When concerned about testing whether any change has occurred from baseline:\n",
    "\n",
    "Rows indicate contrasts and columns the tieme points.\n",
    "\n",
    "![](Screen%20Shot%202018-07-01%20at%205.28.10%20PM.png)\n",
    "\n",
    "row 1 - contrast between T2 vs T1\n",
    "\n",
    "row 2 - contrast between T3 vs T1\n",
    "\n",
    "row 3 - contrast between T4 vs T1\n",
    "\n",
    "column 1 - T1\n",
    "\n",
    "column 1 - T2\n",
    "\n",
    "column 1 - T3\n",
    "\n",
    "column 1 - T4\n",
    "\n",
    "\n",
    "\n",
    "### Consecutive Time Comparisons-Profile Contrasts\n",
    "\n",
    "When interest in determining whether each consecutive timepoint is significantly different from the immediately previous timepoint. Sometimes called “profile analysis,” as describedin detail by Momson [1976].\n",
    "\n",
    "![](Screen%20Shot%202018-07-01%20at%205.34.35%20PM.png)\n",
    "\n",
    "\n",
    "Note: Not orthoginal. Useful for identifying changes begin and end in MANOVA Models.\n",
    "\n",
    "\n",
    "### ContrastingEach Timepointto the Mean of Subsequent Timepoints- Helmert Contrasts\n",
    "\n",
    "When interest is in contrasting each timepoint to the mean of all subsequenttimepoints, we can construct Helmert contrasts [Bock, 19751as follows:\n",
    "\n",
    "![](Screen%20Shot%202018-07-01%20at%206.31.55%20PM.png)\n",
    "\n",
    "\n",
    "for T1 versus the average of T2, T3, and T4; T2 versus the average of T3 and T4; and T3 versus T4. Helmert contrasts are orthogonal, and are useful for “ordered” tests. They can also be reversed to compare each timepoint to the mean of the previous timepoints:\n",
    "\n",
    "\n",
    "![](Screen%20Shot%202018-07-01%20at%206.32.12%20PM.png)\n",
    "\n",
    "for T2 versus T1; T3 versus the average of TI and T2; and T4 versus the average of TI, T2, and T3. In this form, these contrasts are somewhat similar to profile contrasts, except that the reference is all prior timepoints rather than simply the single previous timepoint.\n",
    "\n",
    "\n",
    "\n",
    "### Contrasting Each Timepoint to the Mean of Others-Deviation Contrasts\n",
    "\n",
    "\n",
    "When there is interest in contrasting each timepoint to the mean of all other timepoints, deviation contrasts can be computed as\n",
    "\n",
    "![](Screen%20Shot%202018-07-01%20at%206.33.02%20PM.png)\n",
    "\n",
    "for T1 versus the average of T2, T3, and T4; T2 versus the average of T1, T3, and T4; and T3 versus the average of T1, T2, and T4. Here, all timepoints except the last one are compared to the average of the other timepoints.\n",
    "\n",
    "\n",
    "Note:  making multiple comparisons that will potentially lead to elevated experiment-wise Type I error rates. The most conservative solution is to use the so-called Bonferroni corrected a level.\n",
    "\n"
   ]
  },
  {
   "cell_type": "markdown",
   "metadata": {},
   "source": [
    "## 2.2 MULTIPLE-SAMPLE REPEATED MEASURES ANOVA\n",
    "\n",
    "Common design in randomized clinical trials, where subjects are randomized to different treatment groups and followed across time.\n",
    "\n",
    "$$y_{hij} = \\mu + \\gamma_h + \\tau_j + (\\gamma \\tau)_{hj} + \\pi_{i(h)} + e_{hij}$$\n",
    "\n",
    "where:\n",
    "\n",
    "$h = 1, ..., s$ groups\n",
    "\n",
    "$i = 1, ..., N_h$ subjects in groups h (with $N = \\sum_{h=1}^{s}{N_h}$)\n",
    "\n",
    "$j = 1, ..., n$ timepoints \n",
    "\n",
    "$\\mu$ - grand mean\n",
    "\n",
    "$\\gamma_h$ - effect of group h ($\\sum_h{\\gamma_h} = 0 $)\n",
    "\n",
    "$\\tau_j$ - effect of time j ($\\sum_j{\\tau_j} = 0$)\n",
    "\n",
    "$(\\gamma \\tau)_{hj}$ - interaction effect of time j and group h\n",
    "\n",
    "$\\pi_{i(h)}$ - individual difference component for subject i nested in group h\n",
    "\n",
    "$e_{hij}$\n",
    "\n",
    "Assuming:\n",
    "\n",
    "$\\pi_i \\sim N(0, \\sigma_i^2)$\n",
    "\n",
    "and\n",
    "\n",
    "$e_{ij} \\sim N(0, \\sigma_e^2)$\n",
    "\n",
    "\n"
   ]
  },
  {
   "attachments": {},
   "cell_type": "markdown",
   "metadata": {},
   "source": [
    "Data Example:\n",
    "\n",
    "![](Screen%20Shot%202018-07-01%20at%207.00.51%20PM.png)\n",
    "\n",
    "ANOVA Table:\n",
    "\n",
    "![](Screen%20Shot%202018-07-01%20at%207.15.31%20PM.png)\n",
    "\n",
    "$D_G$ - differences among groups\n",
    "\n",
    "$D_T$ - differences among timepoints\n",
    "\n",
    "$D_GT$ - group by time interactions\n",
    "\n",
    "### Testing for Group by Time Interaction\n",
    "\n",
    "Usually of primary intrest is tested as :\n",
    "\n",
    "\n",
    "![](Screen%20Shot%202018-07-01%20at%207.29.10%20PM.png)\n",
    "\n",
    "If null hypothesis of (no group by time interaction) is rejected, we conclude that \n",
    "1) the between group differences are noththe same accross time\n",
    "2) the between group curves accross time are not parallel\n",
    "3) group and time effects are confounded with the iinteractions and connot be sepratly tested. \n",
    "\n",
    "If the null hypothesis of (NO group by time interaction) cannot be rejected, then the tests of the main effects of time and group are:\n",
    "\n",
    "![](Screen%20Shot%202018-07-01%20at%207.32.14%20PM.png)\n"
   ]
  },
  {
   "attachments": {
    "Screen%20Shot%202018-07-01%20at%207.36.29%20PM.png": {
     "image/png": "[encoded data removed]"
    },
    "Screen%20Shot%202018-07-01%20at%207.39.52%20PM.png": {
     "image/png": "[encoded data removed]"
    },
    "Screen%20Shot%202018-07-01%20at%207.58.07%20PM.png": {
     "image/png": "[encoded data removed]"
    }
   },
   "cell_type": "markdown",
   "metadata": {},
   "source": [
    "### Testing for Subject Effect\n",
    "\n",
    "\n",
    "To test the significance of random subject effects, we use: \n",
    "\n",
    "\n",
    "![Screen%20Shot%202018-07-01%20at%207.36.29%20PM.png](attachment:Screen%20Shot%202018-07-01%20at%207.36.29%20PM.png)\n",
    "\n",
    "Generally assume that:\n",
    "\n",
    "![Screen%20Shot%202018-07-01%20at%207.39.52%20PM.png](attachment:Screen%20Shot%202018-07-01%20at%207.39.52%20PM.png)\n",
    "\n",
    "The ICC represents the proportion of unexplained variation in the dependent variable due to subjects, ie. variation not explained by fixed effects: group, time, group by time.\n",
    "\n",
    "\n",
    "## Compound Symmetry and Sphericity\n",
    "\n",
    "For both univariate and multiple sample ANOVA models the variance of the responce vector is:\n",
    "\n",
    "$V(y_i) = \\sigma_\\pi^2 1_n 1_n^{'} + \\sigma_e^2 I_n$\n",
    "\n",
    "\n",
    "correlation between responses accross timepoints is the same accross all pair of time points:\n",
    "\n",
    "$$Corr(y_{ij}, y_{ij'}) = \\frac{\\sigma_\\pi^2}{\\sigma_\\pi^2 + \\sigma_e^2}$$\n",
    "\n",
    "Compound Symmetry is unrelaistic unless Sphericity holds.\n",
    "\n",
    "### Sphericity\n",
    "\n",
    "Sphericity, sometimes called circularity, can be expressed in different ways. The most general is that all variances of all pairwise differences between variables are equal\n",
    "\n",
    "![Screen%20Shot%202018-07-01%20at%207.58.07%20PM.png](attachment:Screen%20Shot%202018-07-01%20at%207.58.07%20PM.png)\n",
    "\n",
    "Thesphericitytest is sensitive to departures from normality and to the presence of outliers. As such, it should be used as a guide and not as a strict rule. If the sphericity assumption is rejected, or deemedimplausible, one can use a multivariate repeated measures analysis (MANOVA), which allows for general $V(y_i)$ but does not allow for any missing data across time.\n"
   ]
  },
  {
   "cell_type": "markdown",
   "metadata": {},
   "source": [
    "### Example\n",
    "\n",
    "After an exhaustive search I was able to get the data used for Bock [1975] paper. From https://rdrr.io/cran/heplots/man/VocabGrowth.html Extracting a .txt and then cleaning using the simple VocabGrowth_to_csv.py file included."
   ]
  },
  {
   "cell_type": "code",
   "execution_count": 1,
   "metadata": {
    "collapsed": true
   },
   "outputs": [],
   "source": [
    "import pandas as pd\n",
    "\n",
    "data = pd.read_csv('VocabGrowth.csv', names = ['8_Grade', '9_Grade', '10_Grade', '11_Grade'])\n",
    "VocabGrowth = data"
   ]
  },
  {
   "cell_type": "code",
   "execution_count": 2,
   "metadata": {},
   "outputs": [
    {
     "data": {
      "text/plain": [
       "[<matplotlib.lines.Line2D at 0x1115aa048>]"
      ]
     },
     "execution_count": 2,
     "metadata": {},
     "output_type": "execute_result"
    },
    {
     "data": {
      "image/png": "[encoded data removed]",
      "text/plain": [
       "<matplotlib.figure.Figure at 0x110bd26d8>"
      ]
     },
     "metadata": {},
     "output_type": "display_data"
    }
   ],
   "source": [
    "import matplotlib.pyplot as plt\n",
    "% matplotlib inline\n",
    "\n",
    "plt.plot([VocabGrowth['8_Grade'].mean(), VocabGrowth['9_Grade'].mean(), \\\n",
    "          VocabGrowth['10_Grade'].mean(),  VocabGrowth['11_Grade'].mean()], \\\n",
    "        marker = 'o')\n",
    "\n",
    "## Need to add labels\n"
   ]
  },
  {
   "cell_type": "code",
   "execution_count": 3,
   "metadata": {},
   "outputs": [
    {
     "data": {
      "text/html": [
       "<div>\n",
       "<style scoped>\n",
       "    .dataframe tbody tr th:only-of-type {\n",
       "        vertical-align: middle;\n",
       "    }\n",
       "\n",
       "    .dataframe tbody tr th {\n",
       "        vertical-align: top;\n",
       "    }\n",
       "\n",
       "    .dataframe thead th {\n",
       "        text-align: right;\n",
       "    }\n",
       "</style>\n",
       "<table border=\"1\" class=\"dataframe\">\n",
       "  <thead>\n",
       "    <tr style=\"text-align: right;\">\n",
       "      <th></th>\n",
       "      <th>8_Grade</th>\n",
       "      <th>9_Grade</th>\n",
       "      <th>10_Grade</th>\n",
       "      <th>11_Grade</th>\n",
       "    </tr>\n",
       "  </thead>\n",
       "  <tbody>\n",
       "    <tr>\n",
       "      <th>count</th>\n",
       "      <td>64.000000</td>\n",
       "      <td>64.000000</td>\n",
       "      <td>64.000000</td>\n",
       "      <td>64.000000</td>\n",
       "    </tr>\n",
       "    <tr>\n",
       "      <th>mean</th>\n",
       "      <td>1.137500</td>\n",
       "      <td>2.541719</td>\n",
       "      <td>2.988281</td>\n",
       "      <td>3.468750</td>\n",
       "    </tr>\n",
       "    <tr>\n",
       "      <th>std</th>\n",
       "      <td>1.890183</td>\n",
       "      <td>2.084905</td>\n",
       "      <td>2.168757</td>\n",
       "      <td>1.926623</td>\n",
       "    </tr>\n",
       "    <tr>\n",
       "      <th>min</th>\n",
       "      <td>-2.190000</td>\n",
       "      <td>-1.310000</td>\n",
       "      <td>-0.660000</td>\n",
       "      <td>-2.220000</td>\n",
       "    </tr>\n",
       "    <tr>\n",
       "      <th>25%</th>\n",
       "      <td>-0.052500</td>\n",
       "      <td>1.112500</td>\n",
       "      <td>1.447500</td>\n",
       "      <td>2.330000</td>\n",
       "    </tr>\n",
       "    <tr>\n",
       "      <th>50%</th>\n",
       "      <td>1.230000</td>\n",
       "      <td>2.455000</td>\n",
       "      <td>2.715000</td>\n",
       "      <td>3.270000</td>\n",
       "    </tr>\n",
       "    <tr>\n",
       "      <th>75%</th>\n",
       "      <td>2.182500</td>\n",
       "      <td>3.405000</td>\n",
       "      <td>4.160000</td>\n",
       "      <td>4.477500</td>\n",
       "    </tr>\n",
       "    <tr>\n",
       "      <th>max</th>\n",
       "      <td>8.280000</td>\n",
       "      <td>9.550000</td>\n",
       "      <td>10.240000</td>\n",
       "      <td>10.580000</td>\n",
       "    </tr>\n",
       "  </tbody>\n",
       "</table>\n",
       "</div>"
      ],
      "text/plain": [
       "         8_Grade    9_Grade   10_Grade   11_Grade\n",
       "count  64.000000  64.000000  64.000000  64.000000\n",
       "mean    1.137500   2.541719   2.988281   3.468750\n",
       "std     1.890183   2.084905   2.168757   1.926623\n",
       "min    -2.190000  -1.310000  -0.660000  -2.220000\n",
       "25%    -0.052500   1.112500   1.447500   2.330000\n",
       "50%     1.230000   2.455000   2.715000   3.270000\n",
       "75%     2.182500   3.405000   4.160000   4.477500\n",
       "max     8.280000   9.550000  10.240000  10.580000"
      ]
     },
     "execution_count": 3,
     "metadata": {},
     "output_type": "execute_result"
    }
   ],
   "source": [
    "VocabGrowth.describe()"
   ]
  },
  {
   "cell_type": "code",
   "execution_count": 4,
   "metadata": {},
   "outputs": [
    {
     "data": {
      "text/html": [
       "<div>\n",
       "<style scoped>\n",
       "    .dataframe tbody tr th:only-of-type {\n",
       "        vertical-align: middle;\n",
       "    }\n",
       "\n",
       "    .dataframe tbody tr th {\n",
       "        vertical-align: top;\n",
       "    }\n",
       "\n",
       "    .dataframe thead th {\n",
       "        text-align: right;\n",
       "    }\n",
       "</style>\n",
       "<table border=\"1\" class=\"dataframe\">\n",
       "  <thead>\n",
       "    <tr style=\"text-align: right;\">\n",
       "      <th></th>\n",
       "      <th>8_Grade</th>\n",
       "      <th>9_Grade</th>\n",
       "      <th>10_Grade</th>\n",
       "      <th>11_Grade</th>\n",
       "    </tr>\n",
       "  </thead>\n",
       "  <tbody>\n",
       "    <tr>\n",
       "      <th>8_Grade</th>\n",
       "      <td>1.000000</td>\n",
       "      <td>0.810128</td>\n",
       "      <td>0.866740</td>\n",
       "      <td>0.784351</td>\n",
       "    </tr>\n",
       "    <tr>\n",
       "      <th>9_Grade</th>\n",
       "      <td>0.810128</td>\n",
       "      <td>1.000000</td>\n",
       "      <td>0.784636</td>\n",
       "      <td>0.757642</td>\n",
       "    </tr>\n",
       "    <tr>\n",
       "      <th>10_Grade</th>\n",
       "      <td>0.866740</td>\n",
       "      <td>0.784636</td>\n",
       "      <td>1.000000</td>\n",
       "      <td>0.810099</td>\n",
       "    </tr>\n",
       "    <tr>\n",
       "      <th>11_Grade</th>\n",
       "      <td>0.784351</td>\n",
       "      <td>0.757642</td>\n",
       "      <td>0.810099</td>\n",
       "      <td>1.000000</td>\n",
       "    </tr>\n",
       "  </tbody>\n",
       "</table>\n",
       "</div>"
      ],
      "text/plain": [
       "           8_Grade   9_Grade  10_Grade  11_Grade\n",
       "8_Grade   1.000000  0.810128  0.866740  0.784351\n",
       "9_Grade   0.810128  1.000000  0.784636  0.757642\n",
       "10_Grade  0.866740  0.784636  1.000000  0.810099\n",
       "11_Grade  0.784351  0.757642  0.810099  1.000000"
      ]
     },
     "execution_count": 4,
     "metadata": {},
     "output_type": "execute_result"
    }
   ],
   "source": [
    "VocabGrowth.corr()"
   ]
  },
  {
   "cell_type": "markdown",
   "metadata": {},
   "source": [
    "## SUBJECT SS"
   ]
  },
  {
   "cell_type": "code",
   "execution_count": 5,
   "metadata": {},
   "outputs": [
    {
     "data": {
      "text/plain": [
       "2.5340624999999997"
      ]
     },
     "execution_count": 5,
     "metadata": {},
     "output_type": "execute_result"
    }
   ],
   "source": [
    "VocabGrowth.mean().mean()"
   ]
  },
  {
   "cell_type": "code",
   "execution_count": 6,
   "metadata": {
    "collapsed": true
   },
   "outputs": [],
   "source": [
    "subject_col = VocabGrowth.transpose()\n",
    "subject_col_mean = subject_col.mean()"
   ]
  },
  {
   "cell_type": "code",
   "execution_count": 7,
   "metadata": {},
   "outputs": [
    {
     "data": {
      "text/plain": [
       "873.9856749999999"
      ]
     },
     "execution_count": 7,
     "metadata": {},
     "output_type": "execute_result"
    }
   ],
   "source": [
    "def ss_subj(x):\n",
    "    return (x - subject_col.mean().mean())**2\n",
    "sum_sqr = subject_col_mean.apply(ss_subj)\n",
    "ss_subject = sum_sqr.sum()* 4\n",
    "ss_subject"
   ]
  },
  {
   "cell_type": "markdown",
   "metadata": {},
   "source": [
    "## TIME SS"
   ]
  },
  {
   "cell_type": "code",
   "execution_count": 8,
   "metadata": {},
   "outputs": [
    {
     "data": {
      "text/plain": [
       "8_Grade     1.137500\n",
       "9_Grade     2.541719\n",
       "10_Grade    2.988281\n",
       "11_Grade    3.468750\n",
       "dtype: float64"
      ]
     },
     "execution_count": 8,
     "metadata": {},
     "output_type": "execute_result"
    }
   ],
   "source": [
    "subject_col_mean_time = VocabGrowth.mean()\n",
    "subject_col_mean_time"
   ]
  },
  {
   "cell_type": "code",
   "execution_count": 9,
   "metadata": {},
   "outputs": [
    {
     "data": {
      "text/plain": [
       "8_Grade     1.950387\n",
       "9_Grade     0.000059\n",
       "10_Grade    0.206315\n",
       "11_Grade    0.873641\n",
       "dtype: float64"
      ]
     },
     "execution_count": 9,
     "metadata": {},
     "output_type": "execute_result"
    }
   ],
   "source": [
    "sum_sqr_time = subject_col_mean_time.apply(ss_subj)\n",
    "sum_sqr_time"
   ]
  },
  {
   "cell_type": "code",
   "execution_count": 10,
   "metadata": {},
   "outputs": [
    {
     "data": {
      "text/plain": [
       "193.94565312500015"
      ]
     },
     "execution_count": 10,
     "metadata": {},
     "output_type": "execute_result"
    }
   ],
   "source": [
    "ss_time = len(VocabGrowth) * sum_sqr_time.sum()\n",
    "ss_time"
   ]
  },
  {
   "cell_type": "markdown",
   "metadata": {},
   "source": [
    "## Residual SS"
   ]
  },
  {
   "cell_type": "code",
   "execution_count": 11,
   "metadata": {
    "collapsed": true
   },
   "outputs": [],
   "source": [
    "sum_sqr_res = VocabGrowth"
   ]
  },
  {
   "cell_type": "code",
   "execution_count": 12,
   "metadata": {
    "collapsed": true
   },
   "outputs": [],
   "source": [
    "y_ij = sum_sqr_res\n",
    "y_bar_i_dot = ''\n",
    "y_bar_dot_j = ''\n",
    "y_dot_dot = ''"
   ]
  },
  {
   "cell_type": "code",
   "execution_count": 13,
   "metadata": {},
   "outputs": [
    {
     "data": {
      "text/plain": [
       "1    2.9475\n",
       "2    2.3100\n",
       "3    1.1000\n",
       "4    3.8350\n",
       "5   -1.3750\n",
       "dtype: float64"
      ]
     },
     "execution_count": 13,
     "metadata": {},
     "output_type": "execute_result"
    }
   ],
   "source": [
    "y_bar_i_dot = y_ij.transpose().mean()\n",
    "y_bar_i_dot.head()"
   ]
  },
  {
   "cell_type": "code",
   "execution_count": 14,
   "metadata": {},
   "outputs": [
    {
     "data": {
      "text/plain": [
       "8_Grade     1.137500\n",
       "9_Grade     2.541719\n",
       "10_Grade    2.988281\n",
       "11_Grade    3.468750\n",
       "dtype: float64"
      ]
     },
     "execution_count": 14,
     "metadata": {},
     "output_type": "execute_result"
    }
   ],
   "source": [
    "y_bar_dot_j = y_ij.mean()\n",
    "y_bar_dot_j"
   ]
  },
  {
   "cell_type": "code",
   "execution_count": 15,
   "metadata": {},
   "outputs": [
    {
     "data": {
      "text/plain": [
       "2.5340624999999997"
      ]
     },
     "execution_count": 15,
     "metadata": {},
     "output_type": "execute_result"
    }
   ],
   "source": [
    "y_dot_dot = y_ij.mean().mean()\n",
    "y_dot_dot"
   ]
  },
  {
   "cell_type": "code",
   "execution_count": 16,
   "metadata": {},
   "outputs": [
    {
     "data": {
      "text/html": [
       "<div>\n",
       "<style scoped>\n",
       "    .dataframe tbody tr th:only-of-type {\n",
       "        vertical-align: middle;\n",
       "    }\n",
       "\n",
       "    .dataframe tbody tr th {\n",
       "        vertical-align: top;\n",
       "    }\n",
       "\n",
       "    .dataframe thead th {\n",
       "        text-align: right;\n",
       "    }\n",
       "</style>\n",
       "<table border=\"1\" class=\"dataframe\">\n",
       "  <thead>\n",
       "    <tr style=\"text-align: right;\">\n",
       "      <th></th>\n",
       "      <th>8_Grade</th>\n",
       "      <th>9_Grade</th>\n",
       "      <th>10_Grade</th>\n",
       "      <th>11_Grade</th>\n",
       "    </tr>\n",
       "  </thead>\n",
       "  <tbody>\n",
       "    <tr>\n",
       "      <th>1</th>\n",
       "      <td>1.75</td>\n",
       "      <td>2.60</td>\n",
       "      <td>3.76</td>\n",
       "      <td>3.68</td>\n",
       "    </tr>\n",
       "    <tr>\n",
       "      <th>2</th>\n",
       "      <td>0.90</td>\n",
       "      <td>2.47</td>\n",
       "      <td>2.44</td>\n",
       "      <td>3.43</td>\n",
       "    </tr>\n",
       "    <tr>\n",
       "      <th>3</th>\n",
       "      <td>0.80</td>\n",
       "      <td>0.93</td>\n",
       "      <td>0.40</td>\n",
       "      <td>2.27</td>\n",
       "    </tr>\n",
       "    <tr>\n",
       "      <th>4</th>\n",
       "      <td>2.42</td>\n",
       "      <td>4.15</td>\n",
       "      <td>4.56</td>\n",
       "      <td>4.21</td>\n",
       "    </tr>\n",
       "    <tr>\n",
       "      <th>5</th>\n",
       "      <td>-1.31</td>\n",
       "      <td>-1.31</td>\n",
       "      <td>-0.66</td>\n",
       "      <td>-2.22</td>\n",
       "    </tr>\n",
       "  </tbody>\n",
       "</table>\n",
       "</div>"
      ],
      "text/plain": [
       "   8_Grade  9_Grade  10_Grade  11_Grade\n",
       "1     1.75     2.60      3.76      3.68\n",
       "2     0.90     2.47      2.44      3.43\n",
       "3     0.80     0.93      0.40      2.27\n",
       "4     2.42     4.15      4.56      4.21\n",
       "5    -1.31    -1.31     -0.66     -2.22"
      ]
     },
     "execution_count": 16,
     "metadata": {},
     "output_type": "execute_result"
    }
   ],
   "source": [
    "sum_sqr_res.head()"
   ]
  },
  {
   "cell_type": "code",
   "execution_count": 17,
   "metadata": {},
   "outputs": [
    {
     "data": {
      "text/html": [
       "<div>\n",
       "<style scoped>\n",
       "    .dataframe tbody tr th:only-of-type {\n",
       "        vertical-align: middle;\n",
       "    }\n",
       "\n",
       "    .dataframe tbody tr th {\n",
       "        vertical-align: top;\n",
       "    }\n",
       "\n",
       "    .dataframe thead th {\n",
       "        text-align: right;\n",
       "    }\n",
       "</style>\n",
       "<table border=\"1\" class=\"dataframe\">\n",
       "  <thead>\n",
       "    <tr style=\"text-align: right;\">\n",
       "      <th></th>\n",
       "      <th>8_Grade</th>\n",
       "      <th>9_Grade</th>\n",
       "      <th>10_Grade</th>\n",
       "      <th>11_Grade</th>\n",
       "    </tr>\n",
       "  </thead>\n",
       "  <tbody>\n",
       "    <tr>\n",
       "      <th>1</th>\n",
       "      <td>0.6125</td>\n",
       "      <td>0.058281</td>\n",
       "      <td>0.771719</td>\n",
       "      <td>0.21125</td>\n",
       "    </tr>\n",
       "    <tr>\n",
       "      <th>2</th>\n",
       "      <td>-0.2375</td>\n",
       "      <td>-0.071719</td>\n",
       "      <td>-0.548281</td>\n",
       "      <td>-0.03875</td>\n",
       "    </tr>\n",
       "    <tr>\n",
       "      <th>3</th>\n",
       "      <td>-0.3375</td>\n",
       "      <td>-1.611719</td>\n",
       "      <td>-2.588281</td>\n",
       "      <td>-1.19875</td>\n",
       "    </tr>\n",
       "    <tr>\n",
       "      <th>4</th>\n",
       "      <td>1.2825</td>\n",
       "      <td>1.608281</td>\n",
       "      <td>1.571719</td>\n",
       "      <td>0.74125</td>\n",
       "    </tr>\n",
       "    <tr>\n",
       "      <th>5</th>\n",
       "      <td>-2.4475</td>\n",
       "      <td>-3.851719</td>\n",
       "      <td>-3.648281</td>\n",
       "      <td>-5.68875</td>\n",
       "    </tr>\n",
       "  </tbody>\n",
       "</table>\n",
       "</div>"
      ],
      "text/plain": [
       "   8_Grade   9_Grade  10_Grade  11_Grade\n",
       "1   0.6125  0.058281  0.771719   0.21125\n",
       "2  -0.2375 -0.071719 -0.548281  -0.03875\n",
       "3  -0.3375 -1.611719 -2.588281  -1.19875\n",
       "4   1.2825  1.608281  1.571719   0.74125\n",
       "5  -2.4475 -3.851719 -3.648281  -5.68875"
      ]
     },
     "execution_count": 17,
     "metadata": {},
     "output_type": "execute_result"
    }
   ],
   "source": [
    "sum_sqr_res_1 = sum_sqr_res.subtract(y_bar_dot_j, axis = 1)\n",
    "sum_sqr_res_1.head()\n"
   ]
  },
  {
   "cell_type": "code",
   "execution_count": 18,
   "metadata": {},
   "outputs": [
    {
     "data": {
      "text/plain": [
       "1    2.9475\n",
       "2    2.3100\n",
       "3    1.1000\n",
       "4    3.8350\n",
       "5   -1.3750\n",
       "dtype: float64"
      ]
     },
     "execution_count": 18,
     "metadata": {},
     "output_type": "execute_result"
    }
   ],
   "source": [
    "y_bar_i_dot.head()"
   ]
  },
  {
   "cell_type": "code",
   "execution_count": 19,
   "metadata": {},
   "outputs": [
    {
     "data": {
      "text/html": [
       "<div>\n",
       "<style scoped>\n",
       "    .dataframe tbody tr th:only-of-type {\n",
       "        vertical-align: middle;\n",
       "    }\n",
       "\n",
       "    .dataframe tbody tr th {\n",
       "        vertical-align: top;\n",
       "    }\n",
       "\n",
       "    .dataframe thead th {\n",
       "        text-align: right;\n",
       "    }\n",
       "</style>\n",
       "<table border=\"1\" class=\"dataframe\">\n",
       "  <thead>\n",
       "    <tr style=\"text-align: right;\">\n",
       "      <th></th>\n",
       "      <th>8_Grade</th>\n",
       "      <th>9_Grade</th>\n",
       "      <th>10_Grade</th>\n",
       "      <th>11_Grade</th>\n",
       "    </tr>\n",
       "  </thead>\n",
       "  <tbody>\n",
       "    <tr>\n",
       "      <th>1</th>\n",
       "      <td>-2.3350</td>\n",
       "      <td>-2.889219</td>\n",
       "      <td>-2.175781</td>\n",
       "      <td>-2.73625</td>\n",
       "    </tr>\n",
       "    <tr>\n",
       "      <th>2</th>\n",
       "      <td>-2.5475</td>\n",
       "      <td>-2.381719</td>\n",
       "      <td>-2.858281</td>\n",
       "      <td>-2.34875</td>\n",
       "    </tr>\n",
       "    <tr>\n",
       "      <th>3</th>\n",
       "      <td>-1.4375</td>\n",
       "      <td>-2.711719</td>\n",
       "      <td>-3.688281</td>\n",
       "      <td>-2.29875</td>\n",
       "    </tr>\n",
       "    <tr>\n",
       "      <th>4</th>\n",
       "      <td>-2.5525</td>\n",
       "      <td>-2.226719</td>\n",
       "      <td>-2.263281</td>\n",
       "      <td>-3.09375</td>\n",
       "    </tr>\n",
       "    <tr>\n",
       "      <th>5</th>\n",
       "      <td>-1.0725</td>\n",
       "      <td>-2.476719</td>\n",
       "      <td>-2.273281</td>\n",
       "      <td>-4.31375</td>\n",
       "    </tr>\n",
       "  </tbody>\n",
       "</table>\n",
       "</div>"
      ],
      "text/plain": [
       "   8_Grade   9_Grade  10_Grade  11_Grade\n",
       "1  -2.3350 -2.889219 -2.175781  -2.73625\n",
       "2  -2.5475 -2.381719 -2.858281  -2.34875\n",
       "3  -1.4375 -2.711719 -3.688281  -2.29875\n",
       "4  -2.5525 -2.226719 -2.263281  -3.09375\n",
       "5  -1.0725 -2.476719 -2.273281  -4.31375"
      ]
     },
     "execution_count": 19,
     "metadata": {},
     "output_type": "execute_result"
    }
   ],
   "source": [
    "sum_sqr_res_2 = sum_sqr_res_1.subtract(y_bar_i_dot, axis=0)\n",
    "sum_sqr_res_2.head()"
   ]
  },
  {
   "cell_type": "code",
   "execution_count": 20,
   "metadata": {},
   "outputs": [
    {
     "data": {
      "text/plain": [
       "155.11944687500002"
      ]
     },
     "execution_count": 20,
     "metadata": {},
     "output_type": "execute_result"
    }
   ],
   "source": [
    "sum_sqr_res_3 = sum_sqr_res_2.add(y_dot_dot)\n",
    "ss_res = (sum_sqr_res_3 ** 2).sum().sum()\n",
    "ss_res"
   ]
  },
  {
   "cell_type": "markdown",
   "metadata": {},
   "source": [
    "## Total SS"
   ]
  },
  {
   "cell_type": "code",
   "execution_count": 21,
   "metadata": {},
   "outputs": [
    {
     "data": {
      "text/html": [
       "<div>\n",
       "<style scoped>\n",
       "    .dataframe tbody tr th:only-of-type {\n",
       "        vertical-align: middle;\n",
       "    }\n",
       "\n",
       "    .dataframe tbody tr th {\n",
       "        vertical-align: top;\n",
       "    }\n",
       "\n",
       "    .dataframe thead th {\n",
       "        text-align: right;\n",
       "    }\n",
       "</style>\n",
       "<table border=\"1\" class=\"dataframe\">\n",
       "  <thead>\n",
       "    <tr style=\"text-align: right;\">\n",
       "      <th></th>\n",
       "      <th>8_Grade</th>\n",
       "      <th>9_Grade</th>\n",
       "      <th>10_Grade</th>\n",
       "      <th>11_Grade</th>\n",
       "    </tr>\n",
       "  </thead>\n",
       "  <tbody>\n",
       "    <tr>\n",
       "      <th>1</th>\n",
       "      <td>0.614754</td>\n",
       "      <td>0.004348</td>\n",
       "      <td>1.502923</td>\n",
       "      <td>1.313173</td>\n",
       "    </tr>\n",
       "    <tr>\n",
       "      <th>2</th>\n",
       "      <td>2.670160</td>\n",
       "      <td>0.004104</td>\n",
       "      <td>0.008848</td>\n",
       "      <td>0.802704</td>\n",
       "    </tr>\n",
       "    <tr>\n",
       "      <th>3</th>\n",
       "      <td>3.006973</td>\n",
       "      <td>2.573017</td>\n",
       "      <td>4.554223</td>\n",
       "      <td>0.069729</td>\n",
       "    </tr>\n",
       "    <tr>\n",
       "      <th>4</th>\n",
       "      <td>0.013010</td>\n",
       "      <td>2.611254</td>\n",
       "      <td>4.104423</td>\n",
       "      <td>2.808767</td>\n",
       "    </tr>\n",
       "    <tr>\n",
       "      <th>5</th>\n",
       "      <td>14.776817</td>\n",
       "      <td>14.776817</td>\n",
       "      <td>10.202035</td>\n",
       "      <td>22.601110</td>\n",
       "    </tr>\n",
       "  </tbody>\n",
       "</table>\n",
       "</div>"
      ],
      "text/plain": [
       "     8_Grade    9_Grade   10_Grade   11_Grade\n",
       "1   0.614754   0.004348   1.502923   1.313173\n",
       "2   2.670160   0.004104   0.008848   0.802704\n",
       "3   3.006973   2.573017   4.554223   0.069729\n",
       "4   0.013010   2.611254   4.104423   2.808767\n",
       "5  14.776817  14.776817  10.202035  22.601110"
      ]
     },
     "execution_count": 21,
     "metadata": {},
     "output_type": "execute_result"
    }
   ],
   "source": [
    "sum_sqr_total = VocabGrowth\n",
    "sum_sqr_total_sum_m = (sum_sqr_total - VocabGrowth.mean().mean())**2\n",
    "sum_sqr_total_sum_m.head()"
   ]
  },
  {
   "cell_type": "code",
   "execution_count": 22,
   "metadata": {},
   "outputs": [
    {
     "data": {
      "text/plain": [
       "1223.050775"
      ]
     },
     "execution_count": 22,
     "metadata": {},
     "output_type": "execute_result"
    }
   ],
   "source": [
    "sum_sqr_total_sum_m.sum().sum()\n",
    "ss_total = sum_sqr_total_sum_m.sum().sum()\n",
    "ss_total"
   ]
  },
  {
   "cell_type": "markdown",
   "metadata": {},
   "source": [
    "## MS"
   ]
  },
  {
   "cell_type": "code",
   "execution_count": 23,
   "metadata": {},
   "outputs": [
    {
     "data": {
      "text/plain": [
       "13.87278849206349"
      ]
     },
     "execution_count": 23,
     "metadata": {},
     "output_type": "execute_result"
    }
   ],
   "source": [
    "ms_subject = ss_subject/ (len(y_bar_i_dot) - 1)\n",
    "ms_subject"
   ]
  },
  {
   "cell_type": "code",
   "execution_count": 24,
   "metadata": {},
   "outputs": [
    {
     "data": {
      "text/plain": [
       "64.64855104166672"
      ]
     },
     "execution_count": 24,
     "metadata": {},
     "output_type": "execute_result"
    }
   ],
   "source": [
    "ms_time = ss_time/ (len(y_bar_dot_j) - 1)\n",
    "ms_time"
   ]
  },
  {
   "cell_type": "code",
   "execution_count": 25,
   "metadata": {},
   "outputs": [
    {
     "data": {
      "text/plain": [
       "0.8207378141534393"
      ]
     },
     "execution_count": 25,
     "metadata": {},
     "output_type": "execute_result"
    }
   ],
   "source": [
    "ms_res = ss_res/ ((len(y_bar_i_dot) - 1)*(len(y_bar_dot_j) - 1))\n",
    "ms_res"
   ]
  },
  {
   "cell_type": "markdown",
   "metadata": {},
   "source": [
    "## F stats"
   ]
  },
  {
   "cell_type": "code",
   "execution_count": 26,
   "metadata": {},
   "outputs": [
    {
     "data": {
      "text/plain": [
       "16.902826033881183"
      ]
     },
     "execution_count": 26,
     "metadata": {},
     "output_type": "execute_result"
    }
   ],
   "source": [
    "F_s = ms_subject/ms_res\n",
    "F_s"
   ]
  },
  {
   "cell_type": "code",
   "execution_count": 27,
   "metadata": {},
   "outputs": [
    {
     "data": {
      "text/plain": [
       "78.76882230453742"
      ]
     },
     "execution_count": 27,
     "metadata": {},
     "output_type": "execute_result"
    }
   ],
   "source": [
    "F_t = ms_time/ms_res\n",
    "F_t"
   ]
  },
  {
   "cell_type": "markdown",
   "metadata": {
    "collapsed": true
   },
   "source": [
    "$\\hat{\\sigma_e^2} =$"
   ]
  },
  {
   "cell_type": "code",
   "execution_count": 28,
   "metadata": {},
   "outputs": [
    {
     "data": {
      "text/plain": [
       "0.8207378141534393"
      ]
     },
     "execution_count": 28,
     "metadata": {},
     "output_type": "execute_result"
    }
   ],
   "source": [
    "sig_e_hat = ss_res/ ((len(y_bar_i_dot)-1)*(len(y_bar_dot_j)-1))\n",
    "sig_e_hat"
   ]
  },
  {
   "cell_type": "markdown",
   "metadata": {},
   "source": [
    "$\\hat{\\sigma_\\pi^2} =$"
   ]
  },
  {
   "cell_type": "code",
   "execution_count": 29,
   "metadata": {},
   "outputs": [
    {
     "data": {
      "text/plain": [
       "3.263012669477513"
      ]
     },
     "execution_count": 29,
     "metadata": {},
     "output_type": "execute_result"
    }
   ],
   "source": [
    "sig_pi_hat = (ms_subject - ms_res)/ len(y_bar_dot_j)\n",
    "sig_pi_hat"
   ]
  },
  {
   "cell_type": "markdown",
   "metadata": {},
   "source": [
    "Intraclass Correlation:\n",
    "#### $ICC = \\frac{\\hat{\\sigma_\\pi^2}}{\\hat{\\sigma_\\pi^2} + \\hat{\\sigma_e^2}} $ \n",
    "Measures the variation that is due to subjects.. I.e not explaned by grade. In other words, the grade which a student is in has very little effect that on the individual studenst's aptitude, i guess..."
   ]
  },
  {
   "cell_type": "code",
   "execution_count": 30,
   "metadata": {},
   "outputs": [
    {
     "data": {
      "text/plain": [
       "0.7990235158971555"
      ]
     },
     "execution_count": 30,
     "metadata": {},
     "output_type": "execute_result"
    }
   ],
   "source": [
    "ICC = sig_pi_hat / (sig_pi_hat + sig_e_hat)\n",
    "ICC"
   ]
  },
  {
   "cell_type": "markdown",
   "metadata": {},
   "source": [
    "However, even though the Grade has little effect, the F-statistic shows that we cannot reject the $H_o$ meaning that there exist an effect from the grade, by the student, with strong statistical significance ('p << .01'). For a closer look we can use the Orthogonal Polynomial Contrasts:"
   ]
  },
  {
   "cell_type": "code",
   "execution_count": 31,
   "metadata": {},
   "outputs": [
    {
     "data": {
      "text/plain": [
       "8_Grade     1.137500\n",
       "9_Grade     2.541719\n",
       "10_Grade    2.988281\n",
       "11_Grade    3.468750\n",
       "dtype: float64"
      ]
     },
     "execution_count": 31,
     "metadata": {},
     "output_type": "execute_result"
    }
   ],
   "source": [
    "y_poly_con = y_bar_dot_j\n",
    "y_poly_con"
   ]
  },
  {
   "cell_type": "code",
   "execution_count": 32,
   "metadata": {},
   "outputs": [
    {
     "data": {
      "text/plain": [
       "10.136249999999999"
      ]
     },
     "execution_count": 32,
     "metadata": {},
     "output_type": "execute_result"
    }
   ],
   "source": [
    "y_poly_con.sum()"
   ]
  },
  {
   "cell_type": "code",
   "execution_count": 33,
   "metadata": {},
   "outputs": [
    {
     "data": {
      "text/html": [
       "<div>\n",
       "<style scoped>\n",
       "    .dataframe tbody tr th:only-of-type {\n",
       "        vertical-align: middle;\n",
       "    }\n",
       "\n",
       "    .dataframe tbody tr th {\n",
       "        vertical-align: top;\n",
       "    }\n",
       "\n",
       "    .dataframe thead th {\n",
       "        text-align: right;\n",
       "    }\n",
       "</style>\n",
       "<table border=\"1\" class=\"dataframe\">\n",
       "  <thead>\n",
       "    <tr style=\"text-align: right;\">\n",
       "      <th></th>\n",
       "      <th>1</th>\n",
       "      <th>2</th>\n",
       "      <th>3</th>\n",
       "      <th>4</th>\n",
       "    </tr>\n",
       "  </thead>\n",
       "  <tbody>\n",
       "    <tr>\n",
       "      <th>0</th>\n",
       "      <td>-3</td>\n",
       "      <td>-1</td>\n",
       "      <td>1</td>\n",
       "      <td>3</td>\n",
       "    </tr>\n",
       "    <tr>\n",
       "      <th>1</th>\n",
       "      <td>1</td>\n",
       "      <td>-1</td>\n",
       "      <td>-1</td>\n",
       "      <td>1</td>\n",
       "    </tr>\n",
       "    <tr>\n",
       "      <th>2</th>\n",
       "      <td>-1</td>\n",
       "      <td>3</td>\n",
       "      <td>-2</td>\n",
       "      <td>1</td>\n",
       "    </tr>\n",
       "  </tbody>\n",
       "</table>\n",
       "</div>"
      ],
      "text/plain": [
       "   1  2  3  4\n",
       "0 -3 -1  1  3\n",
       "1  1 -1 -1  1\n",
       "2 -1  3 -2  1"
      ]
     },
     "execution_count": 33,
     "metadata": {},
     "output_type": "execute_result"
    }
   ],
   "source": [
    "polynomial_con_dict = {1: [-3, 1, -1], 2:[-1, -1, 3], 3:[1, -1, -2], 4:[3, 1, 1]}\n",
    "poly_con_df = pd.DataFrame(polynomial_con_dict)\n",
    "poly_con_df"
   ]
  },
  {
   "cell_type": "code",
   "execution_count": 34,
   "metadata": {
    "collapsed": true
   },
   "outputs": [],
   "source": [
    "import numpy as np\n",
    "poly_con_df.loc[0,:] = poly_con_df.loc[0,:] / np.sqrt(20)\n",
    "poly_con_df.loc[1,:] = poly_con_df.loc[1,:] / np.sqrt(4)\n",
    "poly_con_df.loc[2,:] = poly_con_df.loc[2,:] / np.sqrt(20)"
   ]
  },
  {
   "cell_type": "code",
   "execution_count": 35,
   "metadata": {},
   "outputs": [
    {
     "data": {
      "text/html": [
       "<div>\n",
       "<style scoped>\n",
       "    .dataframe tbody tr th:only-of-type {\n",
       "        vertical-align: middle;\n",
       "    }\n",
       "\n",
       "    .dataframe tbody tr th {\n",
       "        vertical-align: top;\n",
       "    }\n",
       "\n",
       "    .dataframe thead th {\n",
       "        text-align: right;\n",
       "    }\n",
       "</style>\n",
       "<table border=\"1\" class=\"dataframe\">\n",
       "  <thead>\n",
       "    <tr style=\"text-align: right;\">\n",
       "      <th></th>\n",
       "      <th>1</th>\n",
       "      <th>2</th>\n",
       "      <th>3</th>\n",
       "      <th>4</th>\n",
       "    </tr>\n",
       "  </thead>\n",
       "  <tbody>\n",
       "    <tr>\n",
       "      <th>0</th>\n",
       "      <td>-0.670820</td>\n",
       "      <td>-0.223607</td>\n",
       "      <td>0.223607</td>\n",
       "      <td>0.670820</td>\n",
       "    </tr>\n",
       "    <tr>\n",
       "      <th>1</th>\n",
       "      <td>0.500000</td>\n",
       "      <td>-0.500000</td>\n",
       "      <td>-0.500000</td>\n",
       "      <td>0.500000</td>\n",
       "    </tr>\n",
       "    <tr>\n",
       "      <th>2</th>\n",
       "      <td>-0.223607</td>\n",
       "      <td>0.670820</td>\n",
       "      <td>-0.447214</td>\n",
       "      <td>0.223607</td>\n",
       "    </tr>\n",
       "  </tbody>\n",
       "</table>\n",
       "</div>"
      ],
      "text/plain": [
       "          1         2         3         4\n",
       "0 -0.670820 -0.223607  0.223607  0.670820\n",
       "1  0.500000 -0.500000 -0.500000  0.500000\n",
       "2 -0.223607  0.670820 -0.447214  0.223607"
      ]
     },
     "execution_count": 35,
     "metadata": {},
     "output_type": "execute_result"
    }
   ],
   "source": [
    "poly_con_df"
   ]
  },
  {
   "cell_type": "code",
   "execution_count": 36,
   "metadata": {},
   "outputs": [
    {
     "data": {
      "text/plain": [
       "array([ 1.66370445, -0.461875  ,  0.88992012])"
      ]
     },
     "execution_count": 36,
     "metadata": {},
     "output_type": "execute_result"
    }
   ],
   "source": [
    "poly_trend = np.dot(poly_con_df, y_poly_con)\n",
    "# quadratic term do not match\n",
    "poly_trend"
   ]
  },
  {
   "cell_type": "markdown",
   "metadata": {},
   "source": [
    "# Orthogonal Polynomial Decomposition"
   ]
  },
  {
   "cell_type": "code",
   "execution_count": 37,
   "metadata": {},
   "outputs": [
    {
     "data": {
      "text/plain": [
       "177.1464003125002"
      ]
     },
     "execution_count": 37,
     "metadata": {},
     "output_type": "execute_result"
    }
   ],
   "source": [
    "y_bar_dot_dot = y_poly_con\n",
    "c_1 = poly_con_df.loc[0,:]\n",
    "psi_hat_comp1 = np.dot(c_1, y_bar_dot_dot)\n",
    "ss_t1 = len(VocabGrowth) * (psi_hat_comp1**2)\n",
    "ss_t1"
   ]
  },
  {
   "cell_type": "code",
   "execution_count": 38,
   "metadata": {},
   "outputs": [
    {
     "data": {
      "text/plain": [
       "13.653024999999989"
      ]
     },
     "execution_count": 38,
     "metadata": {},
     "output_type": "execute_result"
    }
   ],
   "source": [
    "c_2 = poly_con_df.loc[1,:]\n",
    "psi_hat_comp2 = np.dot(c_2, y_bar_dot_dot)\n",
    "ss_t2 = len(VocabGrowth) * (psi_hat_comp2**2)\n",
    "ss_t2"
   ]
  },
  {
   "cell_type": "code",
   "execution_count": 39,
   "metadata": {},
   "outputs": [
    {
     "data": {
      "text/plain": [
       "50.68530007812497"
      ]
     },
     "execution_count": 39,
     "metadata": {},
     "output_type": "execute_result"
    }
   ],
   "source": [
    "c_3 = poly_con_df.loc[2,:]\n",
    "psi_hat_comp3 = np.dot(c_3, y_bar_dot_dot)\n",
    "ss_t3 = len(VocabGrowth) * (psi_hat_comp3**2)\n",
    "ss_t3"
   ]
  },
  {
   "cell_type": "code",
   "execution_count": 40,
   "metadata": {},
   "outputs": [
    {
     "data": {
      "text/plain": [
       "215.83799022982774"
      ]
     },
     "execution_count": 40,
     "metadata": {},
     "output_type": "execute_result"
    }
   ],
   "source": [
    "ss_t1/ ms_res"
   ]
  },
  {
   "cell_type": "code",
   "execution_count": 41,
   "metadata": {},
   "outputs": [
    {
     "data": {
      "text/plain": [
       "16.635062701579773"
      ]
     },
     "execution_count": 41,
     "metadata": {},
     "output_type": "execute_result"
    }
   ],
   "source": [
    "ss_t2/ ms_res"
   ]
  },
  {
   "cell_type": "code",
   "execution_count": 42,
   "metadata": {},
   "outputs": [
    {
     "data": {
      "text/plain": [
       "61.75577535732892"
      ]
     },
     "execution_count": 42,
     "metadata": {},
     "output_type": "execute_result"
    }
   ],
   "source": [
    "ss_t3/ ms_res"
   ]
  },
  {
   "cell_type": "code",
   "execution_count": 43,
   "metadata": {},
   "outputs": [
    {
     "data": {
      "text/html": [
       "<div>\n",
       "<style scoped>\n",
       "    .dataframe tbody tr th:only-of-type {\n",
       "        vertical-align: middle;\n",
       "    }\n",
       "\n",
       "    .dataframe tbody tr th {\n",
       "        vertical-align: top;\n",
       "    }\n",
       "\n",
       "    .dataframe thead th {\n",
       "        text-align: right;\n",
       "    }\n",
       "</style>\n",
       "<table border=\"1\" class=\"dataframe\">\n",
       "  <thead>\n",
       "    <tr style=\"text-align: right;\">\n",
       "      <th></th>\n",
       "      <th>F</th>\n",
       "      <th>SS</th>\n",
       "      <th>Source</th>\n",
       "      <th>df</th>\n",
       "    </tr>\n",
       "  </thead>\n",
       "  <tbody>\n",
       "    <tr>\n",
       "      <th>0</th>\n",
       "      <td>215.83</td>\n",
       "      <td>177.14</td>\n",
       "      <td>Linear</td>\n",
       "      <td>1</td>\n",
       "    </tr>\n",
       "    <tr>\n",
       "      <th>1</th>\n",
       "      <td>16.63</td>\n",
       "      <td>13.65</td>\n",
       "      <td>Quadratic</td>\n",
       "      <td>1</td>\n",
       "    </tr>\n",
       "    <tr>\n",
       "      <th>2</th>\n",
       "      <td>61.75</td>\n",
       "      <td>50.68</td>\n",
       "      <td>Cubic</td>\n",
       "      <td>1</td>\n",
       "    </tr>\n",
       "  </tbody>\n",
       "</table>\n",
       "</div>"
      ],
      "text/plain": [
       "        F      SS     Source  df\n",
       "0  215.83  177.14     Linear   1\n",
       "1   16.63   13.65  Quadratic   1\n",
       "2   61.75   50.68      Cubic   1"
      ]
     },
     "execution_count": 43,
     "metadata": {},
     "output_type": "execute_result"
    }
   ],
   "source": [
    "pd.DataFrame({'Source':['Linear', 'Quadratic', 'Cubic'], \\\n",
    "             'df':[1, 1, 1], \\\n",
    "             'SS':[177.14, 13.65, 50.68], \\\n",
    "             'F':[215.83, 16.63, 61.75]})\n",
    "## Cubic seems to never math the book..."
   ]
  },
  {
   "cell_type": "markdown",
   "metadata": {},
   "source": [
    "This indicates that the linear trend is the most dominant, the quadratic trend tends to show that there is a slight decrease over time and the cubit term indicates that there is a possibility that vocabulary increases at around 11th grade again. ANOVA's assumption of spericity is not practical in most situation and therfore this method is not always the best."
   ]
  },
  {
   "cell_type": "code",
   "execution_count": null,
   "metadata": {
    "collapsed": true
   },
   "outputs": [],
   "source": []
  }
 ],
 "metadata": {
  "kernelspec": {
   "display_name": "Python 3",
   "language": "python",
   "name": "python3"
  },
  "language_info": {
   "codemirror_mode": {
    "name": "ipython",
    "version": 3
   },
   "file_extension": ".py",
   "mimetype": "text/x-python",
   "name": "python",
   "nbconvert_exporter": "python",
   "pygments_lexer": "ipython3",
   "version": "3.6.3"
  }
 },
 "nbformat": 4,
 "nbformat_minor": 2
}
