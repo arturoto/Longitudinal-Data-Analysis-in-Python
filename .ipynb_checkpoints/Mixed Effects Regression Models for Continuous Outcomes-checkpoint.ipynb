{
 "cells": [
  {
   "cell_type": "markdown",
   "metadata": {},
   "source": [
    "# Mixed Effects Regression Models for Continuous Outcomes\n",
    "\n",
    "Mixed Effects Regression Models (MRMs) becuase of the limitation of traditional models like ANOVA and MANOVA "
   ]
  },
  {
   "cell_type": "markdown",
   "metadata": {
    "collapsed": true
   },
   "source": [
    "Limitations of ANOVA:\n",
    "\n",
    "    Compound symetry assumption and must have complete data \n",
    "    \n",
    "Limitations of MANOVA:\n",
    "\n",
    "    Compound symetry assumption, must have complete data and describes group trends over\n",
    "    time, not individual's effect of trend.\n",
    "    \n",
    "### Mixed Effects Regression Models (MRMs)\n",
    "\n",
    "MRMs include random-effects in a regression model to account for an indivisual's influence on ther reppeated observation, dicribing each subjects trend accross time. They also indicate the degree of subject variation that exists in the population of subjects.\n",
    "\n",
    "Useful Because:\n",
    "\n",
    "    1) Subject not assumed to be measured all at the same time, easier to handle \n",
    "    missing data\n",
    "        - increases the statistical power and reduced missing data bias\n",
    "    2) ANOVA and MANOVA estimates the average change across time, MRMs estimates the\n",
    "    average change and individual change across time\n",
    "    \n",
    "This notebook will expand on a Simple Linear Regression model to include random effects"
   ]
  },
  {
   "cell_type": "markdown",
   "metadata": {},
   "source": [
    "### Simple Linear Regression Model\n",
    "\n",
    "$$y_{ij} = \\beta_0 + \\beta_1 t_{ij} + \\epsilon_{ij}$$\n",
    "where \n",
    "\n",
    "$i = 1, 2, ..., N$ Subjects\n",
    "\n",
    "for\n",
    "\n",
    "$j = 1, 2, ..., n_i$ Occasions\n",
    "\n",
    "Note:\n",
    "\n",
    "$y_{ij}, t_{ij}, \\epsilon_{ij}$ all have the subscripts $ij$. Therefore $y, t, \\epsilon$ are allowed be different for each individual and ocassion.\n",
    "\n",
    "### Adding Random Intecept $v$\n",
    "\n",
    "To allow for the influence of each individual on their repeated measure we can add the $v_{0i}$ term to represent the influence of an individual $i$ on their repeated observation:\n",
    "\n",
    "$$y_{ij} = v_{0i} + \\beta_0 + \\beta_1 t_{ij} + \\epsilon_{ij}$$\n",
    "\n",
    "for organization purposes:\n",
    "\n",
    "$$y_{ij} = \\beta_0 + \\beta_1 t_{ij} + v_{0i} + \\epsilon_{ij}$$\n",
    "\n",
    "We can represent the model as a hierarchical or multilevel model:\n",
    "\n",
    "#### Level 1 (within-subject effect):\n",
    "$$y_{ij} = b_{0i} + b_{1i} t_{ij} + \\epsilon_{ij}$$\n",
    "\n",
    "Representing that an individual $i$'s response, at time $j$, is influenced by the individual's initial level $b_{0i}$ and time trend $b_{1i}$\n",
    "\n",
    "\n",
    "#### Level 2 (between-subject effect):\n",
    "\n",
    "\n",
    "$$b_{0i} = \\beta_0 + v_{0i}$$\n",
    "$$b_{1i} = \\beta_1$$\n",
    "\n",
    "Representing an individual $i$'s initial level is determined by the population's initial level $\\beta_0$ and his/her individuals diviations from the population, represented by $v_{0i}$. This model also states that each individual has the same slope, that is parallel to the population's slope, expressed by $b_{1i} = \\beta_1$.\n",
    "\n"
   ]
  },
  {
   "cell_type": "markdown",
   "metadata": {},
   "source": [
    "Note on incomplete data:\n",
    "\n",
    "The underlying assumption of the model is that the data that are available for a given individual are representative of how that individual deviates from the population trend across the timeframe of the study. MRMs for longitudinal data using the maximum likelihood estimation provide valid statistical tests in the presence of ignorable nonresponse.\n",
    "\n",
    "Note on Compound Symmetry and lntraclass Correlation:\n",
    "\n",
    "Compund symetry is implied by the random intercept. If the covariance is expressed as a correlation, the intraclass correlation is derived. Individual variance over total variance\n",
    "\n",
    "$$ICC = \\frac{\\sigma_{v}^2}{\\sigma^2 + \\sigma_{v}^{2}}$$ \n",
    "\n",
    "Hypothesis testing for fixed effects parameters ($\\beta$'s) calls for Wald's test or Z-tests or chi-squared tests on one degree of freedom. However, for the Variance Covariance terms, Wald's test is nit statistically sound.\n",
    "\n",
    "Liklihood ratio tests can be used on nested models for uni or multi parameter hypothesis tests.\n"
   ]
  },
  {
   "cell_type": "markdown",
   "metadata": {},
   "source": [
    "## Psychiatric dataset \n",
    "\n",
    "Dataset from psychiatric study Reisby et al. [1977]:\n",
    "\n",
    "Longitudinal study on the relatioship between plasma levels of imipramine (IMI) and desipramine (DMI) in 66 depressed patients.\n",
    "\n",
    "Imipramine was commonly prescribed to treat major depression. Imipramine biotransforms into desmethylimipramine, or desipramine, so measurments of desipramine were also taken.\n",
    "\n",
    "Major depression classified as :\n",
    "\n",
    "    1) nonendogenous depression -  associated with some tragic life event\n",
    "    \n",
    "    2) endogenous depression -  appears to occur spontaneously\n",
    "    \n",
    "    "
   ]
  },
  {
   "cell_type": "markdown",
   "metadata": {},
   "source": [
    "From terminal running : \n",
    "    \n",
    "    python DAT_to_csv.py '../Datasets/RIESBY.DAT.txt' '../Datasets/RIESBY.csv'"
   ]
  },
  {
   "cell_type": "code",
   "execution_count": 1,
   "metadata": {},
   "outputs": [
    {
     "name": "stdout",
     "output_type": "stream",
     "text": [
      "Number of Patients in dataset: 66\n"
     ]
    }
   ],
   "source": [
    "import pandas as pd\n",
    "\n",
    "dataset = pd.read_csv('Datasets/RIESBY.csv', header=None)\n",
    "dataset = dataset.iloc[0:-1, 0:-1]\n",
    "print('Number of Patients in dataset: ' + str(len(dataset.iloc[:, 0].unique())))"
   ]
  },
  {
   "cell_type": "code",
   "execution_count": 2,
   "metadata": {},
   "outputs": [
    {
     "data": {
      "text/html": [
       "<div>\n",
       "<style scoped>\n",
       "    .dataframe tbody tr th:only-of-type {\n",
       "        vertical-align: middle;\n",
       "    }\n",
       "\n",
       "    .dataframe tbody tr th {\n",
       "        vertical-align: top;\n",
       "    }\n",
       "\n",
       "    .dataframe thead th {\n",
       "        text-align: right;\n",
       "    }\n",
       "</style>\n",
       "<table border=\"1\" class=\"dataframe\">\n",
       "  <thead>\n",
       "    <tr style=\"text-align: right;\">\n",
       "      <th></th>\n",
       "      <th>0</th>\n",
       "      <th>1</th>\n",
       "      <th>2</th>\n",
       "      <th>3</th>\n",
       "      <th>4</th>\n",
       "      <th>5</th>\n",
       "    </tr>\n",
       "  </thead>\n",
       "  <tbody>\n",
       "    <tr>\n",
       "      <th>0</th>\n",
       "      <td>101</td>\n",
       "      <td>26</td>\n",
       "      <td>1.0</td>\n",
       "      <td>0.0</td>\n",
       "      <td>0.0</td>\n",
       "      <td>0.0</td>\n",
       "    </tr>\n",
       "    <tr>\n",
       "      <th>1</th>\n",
       "      <td>101</td>\n",
       "      <td>22</td>\n",
       "      <td>1.0</td>\n",
       "      <td>1.0</td>\n",
       "      <td>0.0</td>\n",
       "      <td>0.0</td>\n",
       "    </tr>\n",
       "    <tr>\n",
       "      <th>2</th>\n",
       "      <td>101</td>\n",
       "      <td>18</td>\n",
       "      <td>1.0</td>\n",
       "      <td>2.0</td>\n",
       "      <td>0.0</td>\n",
       "      <td>0.0</td>\n",
       "    </tr>\n",
       "    <tr>\n",
       "      <th>3</th>\n",
       "      <td>101</td>\n",
       "      <td>7</td>\n",
       "      <td>1.0</td>\n",
       "      <td>3.0</td>\n",
       "      <td>0.0</td>\n",
       "      <td>0.0</td>\n",
       "    </tr>\n",
       "    <tr>\n",
       "      <th>4</th>\n",
       "      <td>101</td>\n",
       "      <td>4</td>\n",
       "      <td>1.0</td>\n",
       "      <td>4.0</td>\n",
       "      <td>0.0</td>\n",
       "      <td>0.0</td>\n",
       "    </tr>\n",
       "  </tbody>\n",
       "</table>\n",
       "</div>"
      ],
      "text/plain": [
       "     0   1    2    3    4    5\n",
       "0  101  26  1.0  0.0  0.0  0.0\n",
       "1  101  22  1.0  1.0  0.0  0.0\n",
       "2  101  18  1.0  2.0  0.0  0.0\n",
       "3  101   7  1.0  3.0  0.0  0.0\n",
       "4  101   4  1.0  4.0  0.0  0.0"
      ]
     },
     "execution_count": 2,
     "metadata": {},
     "output_type": "execute_result"
    }
   ],
   "source": [
    "dataset.head()"
   ]
  },
  {
   "cell_type": "code",
   "execution_count": null,
   "metadata": {
    "collapsed": true
   },
   "outputs": [],
   "source": []
  }
 ],
 "metadata": {
  "kernelspec": {
   "display_name": "Python 3",
   "language": "python",
   "name": "python3"
  },
  "language_info": {
   "codemirror_mode": {
    "name": "ipython",
    "version": 3
   },
   "file_extension": ".py",
   "mimetype": "text/x-python",
   "name": "python",
   "nbconvert_exporter": "python",
   "pygments_lexer": "ipython3",
   "version": "3.6.3"
  }
 },
 "nbformat": 4,
 "nbformat_minor": 2
}
