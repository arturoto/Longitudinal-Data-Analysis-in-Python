{
 "cells": [
  {
   "cell_type": "markdown",
   "metadata": {},
   "source": [
    "# Mixed Effects Regression Models for Continuous Outcomes"
   ]
  },
  {
   "cell_type": "markdown",
   "metadata": {
    "collapsed": true
   },
   "source": [
    "Limitations of ANOVA:\n",
    "\n",
    "    Compound symetry assumption and must have complete data \n",
    "    \n",
    "MANOVA:\n",
    "\n",
    "    Compound symetry assumption, must have complete data and describes group trends over\n",
    "    time, not individual's effect of trend.\n",
    "    \n",
    "### Mixed Effects Regression Models (MRMs)\n",
    "\n",
    "MRMs include random-effects in a regression model to account for an indivisual's influence on ther reppeated observation, dicribing each subjects trend accross time. They also indicate the degree of subject variation that exists in the population of subjects.\n",
    "\n",
    "Useful Because:\n",
    "\n",
    "    1) Subject not assumed to be measured all at the same time, easier to handle \n",
    "    missing data\n",
    "        - increases the statistical power and reduced missing data bias\n",
    "    2) ANOVA and MANOVA estimates the average change across time, MRMs estimates the\n",
    "    average change and individual change across time\n",
    "    \n",
    "This notebook will expand on a Simple Linear Regression model to include random effects"
   ]
  },
  {
   "cell_type": "code",
   "execution_count": null,
   "metadata": {
    "collapsed": true
   },
   "outputs": [],
   "source": []
  }
 ],
 "metadata": {
  "kernelspec": {
   "display_name": "Python 3",
   "language": "python",
   "name": "python3"
  },
  "language_info": {
   "codemirror_mode": {
    "name": "ipython",
    "version": 3
   },
   "file_extension": ".py",
   "mimetype": "text/x-python",
   "name": "python",
   "nbconvert_exporter": "python",
   "pygments_lexer": "ipython3",
   "version": "3.6.3"
  }
 },
 "nbformat": 4,
 "nbformat_minor": 2
}
