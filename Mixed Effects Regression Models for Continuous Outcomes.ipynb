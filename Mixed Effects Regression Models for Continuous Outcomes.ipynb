{
 "cells": [
  {
   "cell_type": "markdown",
   "metadata": {},
   "source": [
    "# Mixed Effects Regression Models for Continuous Outcomes\n",
    "\n",
    "Mixed Effects Regression Models (MRMs) becuase of the limitation of traditional models like ANOVA and MANOVA "
   ]
  },
  {
   "cell_type": "markdown",
   "metadata": {
    "collapsed": true
   },
   "source": [
    "Limitations of ANOVA:\n",
    "\n",
    "    Compound symetry assumption and must have complete data \n",
    "    \n",
    "Limitations of MANOVA:\n",
    "\n",
    "    Compound symetry assumption, must have complete data and describes group trends over\n",
    "    time, not individual's effect of trend.\n",
    "    \n",
    "### Mixed Effects Regression Models (MRMs)\n",
    "\n",
    "MRMs include random-effects in a regression model to account for an indivisual's influence on ther reppeated observation, dicribing each subjects trend accross time. They also indicate the degree of subject variation that exists in the population of subjects.\n",
    "\n",
    "Useful Because:\n",
    "\n",
    "    1) Subject not assumed to be measured all at the same time, easier to handle \n",
    "    missing data\n",
    "        - increases the statistical power and reduced missing data bias\n",
    "    2) ANOVA and MANOVA estimates the average change across time, MRMs estimates the\n",
    "    average change and individual change across time\n",
    "    \n",
    "This notebook will expand on a Simple Linear Regression model to include random effects"
   ]
  },
  {
   "cell_type": "markdown",
   "metadata": {},
   "source": [
    "### Simple Linear Regression Model\n",
    "\n",
    "$$y_{ij} = \\beta_0 + \\beta_1 t_{ij} + \\epsilon_{ij}$$\n",
    "where \n",
    "\n",
    "$i = 1, 2, ..., N$ Subjects\n",
    "\n",
    "for\n",
    "\n",
    "$j = 1, 2, ..., n_i$ Occasions\n",
    "\n",
    "Note:\n",
    "\n",
    "$y_{ij}, t_{ij}, \\epsilon_{ij}$ all have the subscripts $ij$. Therefore $y, t, \\epsilon$ are allowed be different for each individual and ocassion.\n",
    "\n",
    "### Adding Random Intecept $v$\n",
    "\n",
    "To allow for the influence of each individual on their repeated measure we can add the $v_{0i}$ term to represent the influence of an individual $i$ on their repeated observation:\n",
    "\n",
    "$$y_{ij} = v_{0i} + \\beta_0 + \\beta_1 t_{ij} + \\epsilon_{ij}$$\n",
    "\n",
    "for organization purposes:\n",
    "\n",
    "$$y_{ij} = \\beta_0 + \\beta_1 t_{ij} + v_{0i} + \\epsilon_{ij}$$\n",
    "\n",
    "We can represent the model as a hierarchical or multilevel model:\n",
    "\n",
    "#### Level 1 (within-subject effect):\n",
    "$$y_{ij} = b_{0i} + b_{1i} t_{ij} + \\epsilon_{ij}$$\n",
    "\n",
    "Representing that an individual $i$'s response, at time $j$, is influenced by the individual's initial level $b_{0i}$ and time trend $b_{1i}$\n",
    "\n",
    "\n",
    "#### Level 2 (between-subject effect):\n",
    "\n",
    "\n",
    "$$b_{0i} = \\beta_0 + v_{0i}$$\n",
    "$$b_{1i} = \\beta_1$$\n",
    "\n",
    "Representing an individual $i$'s initial level is determined by the population's initial level $\\beta_0$ and his/her individuals diviations from the population, represented by $v_{0i}$. This model also states that each individual has the same slope, that is parallel to the population's slope, expressed by $b_{1i} = \\beta_1$.\n",
    "\n"
   ]
  },
  {
   "cell_type": "markdown",
   "metadata": {},
   "source": [
    "Note on incomplete data:\n",
    "\n",
    "The underlying assumption of the model is that the data that are available for a given individual are representative of how that individual deviates from the population trend across the timeframe of the study. MRMs for longitudinal data using the maximum likelihood estimation provide valid statistical tests in the presence of ignorable nonresponse.\n",
    "\n",
    "Note on Compound Symmetry and lntraclass Correlation:\n",
    "\n",
    "Compund symetry is implied by the random intercept. If the covariance is expressed as a correlation, the intraclass correlation is derived. Individual variance over total variance\n",
    "\n",
    "$$ICC = \\frac{\\sigma_{v}^2}{\\sigma^2 + \\sigma_{v}^{2}}$$ \n",
    "\n",
    "Hypothesis testing for fixed effects parameters ($\\beta$'s) calls for Wald's test or Z-tests or chi-squared tests on one degree of freedom. However, for the Variance Covariance terms, Wald's test is nit statistically sound.\n",
    "\n",
    "Liklihood ratio tests can be used on nested models for uni or multi parameter hypothesis tests.\n"
   ]
  },
  {
   "cell_type": "markdown",
   "metadata": {},
   "source": [
    "## Psychiatric dataset \n",
    "\n",
    "Dataset from psychiatric study Reisby et al. [1977]:\n",
    "\n",
    "(https://link.springer.com/article/10.1007/BF00426574)\n",
    "\n",
    "Longitudinal study on the relatioship between plasma levels of imipramine (IMI) and desipramine (DMI) in 66 depressed patients.\n",
    "\n",
    "Imipramine was commonly prescribed to treat major depression. Imipramine biotransforms into desmethylimipramine, or desipramine, so measurments of desipramine were also taken.\n",
    "\n",
    "Major depression classified as :\n",
    "\n",
    "    1) nonendogenous depression -  associated with some tragic life event (29 Patients)\n",
    "    \n",
    "    2) endogenous depression -  appears to occur spontaneously (37 Patients)\n",
    "    \n",
    "After 1 week of placebo, patients recieve 225 mg/day doses imipramine for 4 weeks\n",
    "\n",
    "Subjects rated on the Hamilton Depression Rating Scale (HDRS)\n",
    "\n",
    "1st rating - begining of placebo week\n",
    "\n",
    "2nd rating - end of placebo week\n",
    "\n",
    "3rd rating - end of 2nd week (with imipramine)\n",
    "\n",
    "4th ..\n",
    "\n",
    "..\n",
    "\n",
    "..\n",
    "\n",
    "HRDS scores are used as the dependant variable where the higher HDRS Score - more depressed, Lower HDRS Score - less depressed.\n",
    "\n",
    "IMI and DMI measurements were made at the end of each week.\n",
    "IMI and DMI will be treated as time varing covariates. \n",
    "\n",
    "Not all patients were measured at every timepoint. Summary statistics are posted below."
   ]
  },
  {
   "cell_type": "markdown",
   "metadata": {},
   "source": [
    "From terminal running : \n",
    "    \n",
    "    python DAT_to_csv.py '../Datasets/RIESBY.DAT.txt' '../Datasets/RIESBY.csv'"
   ]
  },
  {
   "cell_type": "code",
   "execution_count": 11,
   "metadata": {},
   "outputs": [
    {
     "name": "stdout",
     "output_type": "stream",
     "text": [
      "Number of Patients in dataset: 66\n"
     ]
    }
   ],
   "source": [
    "import pandas as pd\n",
    "\n",
    "dataset = pd.read_csv('Datasets/RIESBY.csv', header=None, na_values='.', names=['PID', 'HDRS', '1', 'Time', 'Sex', 'NA', 'dummy'])\n",
    "dataset = dataset.iloc[0:-1, 0:-1]\n",
    "print('Number of Patients in dataset: ' + str(len(dataset.iloc[:, 0].unique())))"
   ]
  },
  {
   "cell_type": "code",
   "execution_count": 12,
   "metadata": {},
   "outputs": [
    {
     "data": {
      "text/plain": [
       "\"\\nfor week in range(0, 6):\\n    print('Week '+str(week))\\n    print('mean: '+ str(week_HDRS[week_HDRS['Time'] == float(week)].loc[:, 'HDRS'].mean()))\\n    print('sd: '+ str(week_HDRS[week_HDRS['Time'] == float(week)].loc[:, 'HDRS'].var()**(.5)))\\n    print('n: '+str(week_HDRS[week_HDRS['Time'] == float(week)].loc[:, 'HDRS'].count(None)))\\n    print('\\n')\\n\""
      ]
     },
     "execution_count": 12,
     "metadata": {},
     "output_type": "execute_result"
    }
   ],
   "source": [
    "week_HDRS = dataset\n",
    "'''\n",
    "for week in range(0, 6):\n",
    "    print('Week '+str(week))\n",
    "    print('mean: '+ str(week_HDRS[week_HDRS['Time'] == float(week)].loc[:, 'HDRS'].mean()))\n",
    "    print('sd: '+ str(week_HDRS[week_HDRS['Time'] == float(week)].loc[:, 'HDRS'].var()**(.5)))\n",
    "    print('n: '+str(week_HDRS[week_HDRS['Time'] == float(week)].loc[:, 'HDRS'].count(None)))\n",
    "    print('\\n')\n",
    "'''"
   ]
  },
  {
   "cell_type": "markdown",
   "metadata": {},
   "source": [
    "The means as the study progresses tends to go down, the standard deviations go up (hinting the existence of heterogineity) and the subjects $n$ are not stable. For these reasons MANOVA would not be a good approach."
   ]
  },
  {
   "cell_type": "code",
   "execution_count": 19,
   "metadata": {},
   "outputs": [
    {
     "name": "stdout",
     "output_type": "stream",
     "text": [
      "Week0    23.442623\n",
      "Week1    21.841270\n",
      "Week2    18.307692\n",
      "Week3    16.415385\n",
      "Week4    13.619048\n",
      "Week5    11.948276\n",
      "dtype: float64\n",
      "Week0    61\n",
      "Week1    63\n",
      "Week2    65\n",
      "Week3    65\n",
      "Week4    63\n",
      "Week5    58\n",
      "dtype: int64\n",
      "Week0    4.533301\n",
      "Week1    4.697997\n",
      "Week2    5.485558\n",
      "Week3    6.415051\n",
      "Week4    6.970973\n",
      "Week5    7.219424\n",
      "dtype: float64\n"
     ]
    }
   ],
   "source": [
    "week0_HDRS = week_HDRS[week_HDRS['Time'] == 0.0].loc[:, ['HDRS']].rename(columns={'HDRS':'Week0'}).reset_index(drop=True)\n",
    "week1_HDRS = week_HDRS[week_HDRS['Time'] == 1.0].loc[:, ['HDRS']].rename(columns={'HDRS':'Week1'}).reset_index(drop=True)\n",
    "week2_HDRS = week_HDRS[week_HDRS['Time'] == 2.0].loc[:, ['HDRS']].rename(columns={'HDRS':'Week2'}).reset_index(drop=True)\n",
    "week3_HDRS = week_HDRS[week_HDRS['Time'] == 3.0].loc[:, ['HDRS']].rename(columns={'HDRS':'Week3'}).reset_index(drop=True)\n",
    "week4_HDRS = week_HDRS[week_HDRS['Time'] == 4.0].loc[:, ['HDRS']].rename(columns={'HDRS':'Week4'}).reset_index(drop=True)\n",
    "week5_HDRS = week_HDRS[week_HDRS['Time'] == 5.0].loc[:, ['HDRS']].rename(columns={'HDRS':'Week5'}).reset_index(drop=True)\n",
    "\n",
    "week_by_HDRS = pd.concat([week0_HDRS, week1_HDRS, week2_HDRS, week3_HDRS, week4_HDRS, week5_HDRS], axis=1)\n",
    "print(week_by_HDRS.mean())\n",
    "print(week_by_HDRS.count())\n",
    "print(week_by_HDRS.var()**(.5))\n",
    "\n",
    "\n"
   ]
  },
  {
   "cell_type": "markdown",
   "metadata": {},
   "source": [
    "Listwise correlation - No missing data is used when calculating the correlations:"
   ]
  },
  {
   "cell_type": "code",
   "execution_count": 20,
   "metadata": {},
   "outputs": [
    {
     "data": {
      "text/html": [
       "<div>\n",
       "<style scoped>\n",
       "    .dataframe tbody tr th:only-of-type {\n",
       "        vertical-align: middle;\n",
       "    }\n",
       "\n",
       "    .dataframe tbody tr th {\n",
       "        vertical-align: top;\n",
       "    }\n",
       "\n",
       "    .dataframe thead th {\n",
       "        text-align: right;\n",
       "    }\n",
       "</style>\n",
       "<table border=\"1\" class=\"dataframe\">\n",
       "  <thead>\n",
       "    <tr style=\"text-align: right;\">\n",
       "      <th></th>\n",
       "      <th>Week0</th>\n",
       "      <th>Week1</th>\n",
       "      <th>Week2</th>\n",
       "      <th>Week3</th>\n",
       "      <th>Week4</th>\n",
       "      <th>Week5</th>\n",
       "    </tr>\n",
       "  </thead>\n",
       "  <tbody>\n",
       "    <tr>\n",
       "      <th>Week0</th>\n",
       "      <td>1.000000</td>\n",
       "      <td>0.493934</td>\n",
       "      <td>0.417635</td>\n",
       "      <td>0.444459</td>\n",
       "      <td>0.303388</td>\n",
       "      <td>0.221059</td>\n",
       "    </tr>\n",
       "    <tr>\n",
       "      <th>Week1</th>\n",
       "      <td>0.493934</td>\n",
       "      <td>1.000000</td>\n",
       "      <td>0.492479</td>\n",
       "      <td>0.513223</td>\n",
       "      <td>0.347402</td>\n",
       "      <td>0.227266</td>\n",
       "    </tr>\n",
       "    <tr>\n",
       "      <th>Week2</th>\n",
       "      <td>0.417635</td>\n",
       "      <td>0.492479</td>\n",
       "      <td>1.000000</td>\n",
       "      <td>0.730991</td>\n",
       "      <td>0.680273</td>\n",
       "      <td>0.527238</td>\n",
       "    </tr>\n",
       "    <tr>\n",
       "      <th>Week3</th>\n",
       "      <td>0.444459</td>\n",
       "      <td>0.513223</td>\n",
       "      <td>0.730991</td>\n",
       "      <td>1.000000</td>\n",
       "      <td>0.779563</td>\n",
       "      <td>0.622683</td>\n",
       "    </tr>\n",
       "    <tr>\n",
       "      <th>Week4</th>\n",
       "      <td>0.303388</td>\n",
       "      <td>0.347402</td>\n",
       "      <td>0.680273</td>\n",
       "      <td>0.779563</td>\n",
       "      <td>1.000000</td>\n",
       "      <td>0.723015</td>\n",
       "    </tr>\n",
       "    <tr>\n",
       "      <th>Week5</th>\n",
       "      <td>0.221059</td>\n",
       "      <td>0.227266</td>\n",
       "      <td>0.527238</td>\n",
       "      <td>0.622683</td>\n",
       "      <td>0.723015</td>\n",
       "      <td>1.000000</td>\n",
       "    </tr>\n",
       "  </tbody>\n",
       "</table>\n",
       "</div>"
      ],
      "text/plain": [
       "          Week0     Week1     Week2     Week3     Week4     Week5\n",
       "Week0  1.000000  0.493934  0.417635  0.444459  0.303388  0.221059\n",
       "Week1  0.493934  1.000000  0.492479  0.513223  0.347402  0.227266\n",
       "Week2  0.417635  0.492479  1.000000  0.730991  0.680273  0.527238\n",
       "Week3  0.444459  0.513223  0.730991  1.000000  0.779563  0.622683\n",
       "Week4  0.303388  0.347402  0.680273  0.779563  1.000000  0.723015\n",
       "Week5  0.221059  0.227266  0.527238  0.622683  0.723015  1.000000"
      ]
     },
     "execution_count": 20,
     "metadata": {},
     "output_type": "execute_result"
    }
   ],
   "source": [
    "week_by_HDRS.dropna().corr()"
   ]
  },
  {
   "cell_type": "markdown",
   "metadata": {},
   "source": [
    "Pairwise correlation - Including the missing values:"
   ]
  },
  {
   "cell_type": "code",
   "execution_count": 21,
   "metadata": {},
   "outputs": [
    {
     "data": {
      "text/html": [
       "<div>\n",
       "<style scoped>\n",
       "    .dataframe tbody tr th:only-of-type {\n",
       "        vertical-align: middle;\n",
       "    }\n",
       "\n",
       "    .dataframe tbody tr th {\n",
       "        vertical-align: top;\n",
       "    }\n",
       "\n",
       "    .dataframe thead th {\n",
       "        text-align: right;\n",
       "    }\n",
       "</style>\n",
       "<table border=\"1\" class=\"dataframe\">\n",
       "  <thead>\n",
       "    <tr style=\"text-align: right;\">\n",
       "      <th></th>\n",
       "      <th>Week0</th>\n",
       "      <th>Week1</th>\n",
       "      <th>Week2</th>\n",
       "      <th>Week3</th>\n",
       "      <th>Week4</th>\n",
       "      <th>Week5</th>\n",
       "    </tr>\n",
       "  </thead>\n",
       "  <tbody>\n",
       "    <tr>\n",
       "      <th>Week0</th>\n",
       "      <td>1.000000</td>\n",
       "      <td>0.492987</td>\n",
       "      <td>0.410073</td>\n",
       "      <td>0.333101</td>\n",
       "      <td>0.226771</td>\n",
       "      <td>0.183821</td>\n",
       "    </tr>\n",
       "    <tr>\n",
       "      <th>Week1</th>\n",
       "      <td>0.492987</td>\n",
       "      <td>1.000000</td>\n",
       "      <td>0.494332</td>\n",
       "      <td>0.412289</td>\n",
       "      <td>0.308245</td>\n",
       "      <td>0.217919</td>\n",
       "    </tr>\n",
       "    <tr>\n",
       "      <th>Week2</th>\n",
       "      <td>0.410073</td>\n",
       "      <td>0.494332</td>\n",
       "      <td>1.000000</td>\n",
       "      <td>0.737767</td>\n",
       "      <td>0.668542</td>\n",
       "      <td>0.460759</td>\n",
       "    </tr>\n",
       "    <tr>\n",
       "      <th>Week3</th>\n",
       "      <td>0.333101</td>\n",
       "      <td>0.412289</td>\n",
       "      <td>0.737767</td>\n",
       "      <td>1.000000</td>\n",
       "      <td>0.817011</td>\n",
       "      <td>0.568088</td>\n",
       "    </tr>\n",
       "    <tr>\n",
       "      <th>Week4</th>\n",
       "      <td>0.226771</td>\n",
       "      <td>0.308245</td>\n",
       "      <td>0.668542</td>\n",
       "      <td>0.817011</td>\n",
       "      <td>1.000000</td>\n",
       "      <td>0.654350</td>\n",
       "    </tr>\n",
       "    <tr>\n",
       "      <th>Week5</th>\n",
       "      <td>0.183821</td>\n",
       "      <td>0.217919</td>\n",
       "      <td>0.460759</td>\n",
       "      <td>0.568088</td>\n",
       "      <td>0.654350</td>\n",
       "      <td>1.000000</td>\n",
       "    </tr>\n",
       "  </tbody>\n",
       "</table>\n",
       "</div>"
      ],
      "text/plain": [
       "          Week0     Week1     Week2     Week3     Week4     Week5\n",
       "Week0  1.000000  0.492987  0.410073  0.333101  0.226771  0.183821\n",
       "Week1  0.492987  1.000000  0.494332  0.412289  0.308245  0.217919\n",
       "Week2  0.410073  0.494332  1.000000  0.737767  0.668542  0.460759\n",
       "Week3  0.333101  0.412289  0.737767  1.000000  0.817011  0.568088\n",
       "Week4  0.226771  0.308245  0.668542  0.817011  1.000000  0.654350\n",
       "Week5  0.183821  0.217919  0.460759  0.568088  0.654350  1.000000"
      ]
     },
     "execution_count": 21,
     "metadata": {},
     "output_type": "execute_result"
    }
   ],
   "source": [
    "week_by_HDRS.corr()"
   ]
  },
  {
   "cell_type": "code",
   "execution_count": 24,
   "metadata": {},
   "outputs": [
    {
     "data": {
      "text/plain": [
       "<matplotlib.axes._subplots.AxesSubplot at 0x1a093ae438>"
      ]
     },
     "execution_count": 24,
     "metadata": {},
     "output_type": "execute_result"
    },
    {
     "data": {
      "image/png": "[encoded data removed]",
      "text/plain": [
       "<matplotlib.figure.Figure at 0x1a0935ce48>"
      ]
     },
     "metadata": {},
     "output_type": "display_data"
    }
   ],
   "source": [
    "import matplotlib.pyplot as plt\n",
    "% matplotlib inline\n",
    "import seaborn as sns\n",
    "\n",
    "sns.heatmap(week_by_HDRS.corr())"
   ]
  },
  {
   "cell_type": "code",
   "execution_count": 25,
   "metadata": {},
   "outputs": [
    {
     "data": {
      "text/plain": [
       "<matplotlib.axes._subplots.AxesSubplot at 0x1a094017f0>"
      ]
     },
     "execution_count": 25,
     "metadata": {},
     "output_type": "execute_result"
    },
    {
     "data": {
      "image/png": "[encoded data removed]",
      "text/plain": [
       "<matplotlib.figure.Figure at 0x1a094357b8>"
      ]
     },
     "metadata": {},
     "output_type": "display_data"
    }
   ],
   "source": [
    "sns.heatmap(week_by_HDRS.dropna().corr())"
   ]
  },
  {
   "cell_type": "markdown",
   "metadata": {},
   "source": [
    "Both show that the correlation weakens the firther away the week is to a given week's correlation."
   ]
  },
  {
   "cell_type": "code",
   "execution_count": null,
   "metadata": {
    "collapsed": true
   },
   "outputs": [],
   "source": []
  }
 ],
 "metadata": {
  "kernelspec": {
   "display_name": "Python 3",
   "language": "python",
   "name": "python3"
  },
  "language_info": {
   "codemirror_mode": {
    "name": "ipython",
    "version": 3
   },
   "file_extension": ".py",
   "mimetype": "text/x-python",
   "name": "python",
   "nbconvert_exporter": "python",
   "pygments_lexer": "ipython3",
   "version": "3.6.3"
  }
 },
 "nbformat": 4,
 "nbformat_minor": 2
}
