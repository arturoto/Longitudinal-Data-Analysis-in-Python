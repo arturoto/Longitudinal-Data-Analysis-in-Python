{
 "cells": [
  {
   "cell_type": "markdown",
   "metadata": {},
   "source": [
    "### Introduction\n",
    "\n",
    "#### 1.1 Advantages of Longitudinal Studies:\n",
    "\n",
    "Longitudinal methods help because:\n",
    "\n",
    "* To achieve similar level of stat power, fewer subject are needed.\n",
    "* reapeated nature of study makes the diviations of individual subjects more significant.\n",
    "\n",
    "* each subject serves as his/her own control\n",
    "\n",
    "* Statistical estimates of individual trends can be used to better understand heterogeneity in the population and the determinants of growth and change at the level of the individual.\n",
    "    "
   ]
  },
  {
   "cell_type": "markdown",
   "metadata": {},
   "source": [
    "###  \n",
    "#### 1. 2 CHALLENGES OF LONGITUDINAL DATA ANALYSIS:\n",
    "\n",
    "* Observations are not, by definition, independent and we must account for the dependency in data using more sophisticated statistical methods.\n",
    "\n",
    "\n",
    "\n",
    "* Often, there is a lack of available computer software for application of these more complex statistical models, or the level of statistical sophistication required of the user is beyond the typical level of the practitioner. In certain cases, for example nonlinear models for binary, ordinal, or nominal endpoints, parameter estimation can be computationally intensive due to the need for numerical or Monte Carlo simulation methods to evaluate the likelihood of nonlinear mixed-effects regression models.\n",
    "\n",
    "* more likely that there are missing data due to attrition\n",
    "* the values of the predictors or independent variables can also change over time\n",
    "\n",
    "* \"The treatment of time-varying covariates in analysis of longitudinal data permits much stronger statistical inferences about dynamical relationships than can be obtained using cross-sectional data. The price, however, is considerable added complexity to the statistical model.\"\n",
    "\n",
    "* \"repeated measurements involve different conditions that the same subjects are exposed to. A classic example is a crossover design in which two or more treatments are given to the same subject in different orders\"\n"
   ]
  },
  {
   "cell_type": "markdown",
   "metadata": {},
   "source": [
    "###  \n",
    "#### 1.3 SOME GENERAL NOTATION\n",
    "\n",
    "N subjects in the longitudinal study as:\n",
    "$$ i = 1, ..., N \\hspace{.1cm} subjects$$\n",
    "measurement occasions as:\n",
    "$$ j = 1, ..., n \\hspace{.1cm} observations$$\n",
    "in the unbalanced case of unequal numbers of measurements or different time-points for different subjects:\n",
    " $$ j = 1, ..., n_i \\hspace{.1cm} observations \\hspace{.1cm} for \\hspace{.1cm} subject \\hspace{.1cm} i$$\n",
    " Total number of Observations\n",
    " $$ \\sum_{i}^{N}{n_i} $$\n",
    "The repeated responses, or outcomes, or dependent measures for subject $i$ are denoted as\n",
    "the vector:\n",
    "$$\\mathbf{y_i} = n_i \\times 1 $$\n",
    "The values of the p predictors, or covariates, or independent variables for subject $i$ on\n",
    "occasion $j$ are denoted as(includingan intercept term):\n",
    "$$\\mathbf{x_{ij}} = p \\times 1$$\n",
    "For time-invanant predictors (between subject, e.g., sex), the values of xt3are constant for j = 1,, ..,n,. For time-varying predictors (within-subject, e.g., age), the x,]can take on subject- and timepoint-specific values. To describe the entire matrix of predictors for subject 2, we use the notation\n",
    "$$\\mathbf{X_i} = n_i \\times p$$\n",
    "\n",
    "\n"
   ]
  },
  {
   "attachments": {},
   "cell_type": "markdown",
   "metadata": {},
   "source": [
    "###  \n",
    "#### 1.4 DATA LAYOUT\n",
    "\n",
    "![title](Screen%20Shot%202018-06-29%20at%2012.54.33%20AM.png)\n",
    "\n",
    "\"The above layout depicts what is called a 2-level design in the multilevel [Goldstein, 199.51and hierarchical linear modeling [Raudenbush and Bryk, 20021literatures. Namely, repeated observations at level 1 are nested within subjects at level 2. In some cases,\n",
    "subjects themselves are nested within sites, hospitals, clinics, workplaces, etc.\""
   ]
  },
  {
   "cell_type": "code",
   "execution_count": null,
   "metadata": {
    "collapsed": true
   },
   "outputs": [],
   "source": []
  },
  {
   "cell_type": "code",
   "execution_count": null,
   "metadata": {
    "collapsed": true
   },
   "outputs": [],
   "source": []
  },
  {
   "cell_type": "code",
   "execution_count": null,
   "metadata": {
    "collapsed": true
   },
   "outputs": [],
   "source": []
  },
  {
   "cell_type": "code",
   "execution_count": null,
   "metadata": {
    "collapsed": true
   },
   "outputs": [],
   "source": []
  },
  {
   "cell_type": "code",
   "execution_count": null,
   "metadata": {
    "collapsed": true
   },
   "outputs": [],
   "source": []
  },
  {
   "cell_type": "markdown",
   "metadata": {},
   "source": []
  },
  {
   "cell_type": "code",
   "execution_count": null,
   "metadata": {
    "collapsed": true
   },
   "outputs": [],
   "source": []
  }
 ],
 "metadata": {
  "kernelspec": {
   "display_name": "Python 3",
   "language": "python",
   "name": "python3"
  },
  "language_info": {
   "codemirror_mode": {
    "name": "ipython",
    "version": 3
   },
   "file_extension": ".py",
   "mimetype": "text/x-python",
   "name": "python",
   "nbconvert_exporter": "python",
   "pygments_lexer": "ipython3",
   "version": "3.6.3"
  }
 },
 "nbformat": 4,
 "nbformat_minor": 2
}
